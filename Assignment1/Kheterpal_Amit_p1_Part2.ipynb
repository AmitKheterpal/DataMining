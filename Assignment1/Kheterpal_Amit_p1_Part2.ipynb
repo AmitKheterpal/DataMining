{
 "cells": [
  {
   "cell_type": "markdown",
   "id": "c9cc380d",
   "metadata": {},
   "source": [
    "# Program Outline\n",
    "\n",
    "## 1.Program Motivation\n",
    "    Here we will be discussing the business problem and the issues associated with it. All the business requirements and how this model will benefit the stakeholders.\n",
    "\n",
    "## 2. Data Aggregation/ Data Preparation\n",
    "    In this subsection we will discuss the data sources. Some of the problems are listed below:\n",
    "     1. Whether we need to aggregate data from different sources?\n",
    "     2. what will be the format of our input files\n",
    "     3. Clean the datasets to desired format\n",
    "     4. Data Cleansing/ Data Structuring\n",
    "     5. Identify the key features\n",
    "     6. Data Exploration/ Plotting graphs for various attributes\n",
    "     7. Removing Outliers\n",
    "     \n",
    "## 3. Machine Learning\n",
    "    After Preparing our data, we come to the interesting part of the problem. Here we are faced with certain question like.\n",
    "     1. Model Selection\n",
    "     2. Training the model\n",
    "     3. Evaluating the model\n",
    "     4. parameter tuning\n",
    "     5. Making predictions\n",
    "     \n",
    "## 4. Deployment\n",
    "    After we have trained our model, we want to deploy our model. The objective is to make it user friendly so that this      model can reach a wider audience.\"Non-Tech guys\"\n",
    "    1. Deploying machine learning models as web services. \n",
    "    2. Deploying machine learning models for batch prediction.\n",
    "    3. Deploying machine learning models on edge devices as embedded models\n",
    "\n",
    "     \n",
    " \n"
   ]
  },
  {
   "cell_type": "markdown",
   "id": "ce46daea",
   "metadata": {},
   "source": [
    "# 1. Program Motivation\n",
    "<br>\n",
    "\n",
    "In Greek mythology, Dionysus, son of Zeus and his mistress Semele, invented wine while living in the ancient Mount Nysa amongst nymphs.<br>\n",
    "\n",
    "### In other words, wine can also be know as Elixir of the GODS!!\n",
    "\n",
    "## Background Information\n",
    "\n",
    "Therefore, its only natural that people want the best wines. There is a large demand to identify the best wines in the world so we have formulated this model to separate good wines from the bad ones. Check out this list of some of the oldest and most expensive wines in the world [expensive wines](https://www.oldest.org/food/wines/)\n",
    "<br>\n",
    "\n",
    "Now the question we must ask ourselves.... <br>\n",
    "\n",
    "## what factors affect the quality of wine?\n",
    "\n",
    ">- Grape variety\n",
    ">- Climate weather\n",
    ">- soil conditions\n",
    ">- bottle ageing process\n",
    "\n",
    "In this model, we will be using a couple of different features for our model.<br>\n",
    "\n",
    "## Check out this beautiful picture of a vineyard\n",
    "\n",
    "<img src=\"https://media.istockphoto.com/photos/vineyard-sunset-picture-id978754758?k=20&m=978754758&s=612x612&w=0&h=mIJwnwKUpxKVeY9sDvR8TxtleBmYwc_VyXhiaIdiAvs=\"/>\n",
    "\n",
    "\n",
    "\n",
    "\n"
   ]
  },
  {
   "cell_type": "markdown",
   "id": "4a35260d",
   "metadata": {},
   "source": [
    "### 1.1  Importing various python libraries\n",
    "  1. Pandas is a data analysis and manipulation library. We are using it to read the datasets\n",
    "  2. sklearn is machine learning library of python. we need it for running the prediction model.\n",
    "  3. pickle library is used for serializing a python object structure.\n",
    "  4. Seaborn and matplotlib are various data visualization libraries\n",
    "\n",
    "For future reference see: https://pandas.pydata.org/docs/user_guide/index.html \n",
    "\n",
    "See: https://scikit-learn.org/stable/modules/generated/sklearn.linear_model.LogisticRegression.html for additional details on using the LogisticRegression function<br>"
   ]
  },
  {
   "cell_type": "code",
   "execution_count": 65,
   "id": "42f4e006",
   "metadata": {},
   "outputs": [],
   "source": [
    "######################################\n",
    "import pandas as pd\n",
    "from sklearn.linear_model import LogisticRegression\n",
    "from sklearn.metrics import accuracy_score\n",
    "import pickle\n",
    "import seaborn as sns\n",
    "import matplotlib.pyplot as plt"
   ]
  },
  {
   "cell_type": "markdown",
   "id": "9fb4d3a4",
   "metadata": {},
   "source": [
    "# 2. Aggregate Data\n",
    "\n",
    ">**Problem statements:**\n",
    ">- Get data from various sources, various stake holders and aggregate it for the model\n",
    ">- Identify the important features from the aggregated dataset\n",
    "\n",
    "In this case we are reading a csv dataset and the schema will be inferred from the values.<br>\n",
    "High Quality is our prediction variable.<br>\n",
    "Rest of the variables are features or dependent variable.<br>\n",
    "\n",
    "The winequality dataset is given below:\n",
    "\n",
    "| high_quality | chlorides | total_sulfur_dioxide | density | pH   | alcohol |\n",
    "|--------------|-----------|----------------------|---------|------|---------|\n",
    "| 0            | 0.033     | 159                  | 0.99332 | 3.34 | 8       |\n",
    "| 0            | 0.041     | 157                  | 0.99688 | 3.42 | 8       |\n",
    "| 0            | 0.052     | 113                  | 0.99429 | 3.16 | 8.4     |\n",
    "| 0            | 0.052     | 113                  | 0.99429 | 3.16 | 8.4     |\n",
    "| 0            | 0.056     | 91                   | 0.99536 | 3.06 | 8.4     |\n",
    "| 0            | 0.034     | 152                  | 0.99642 | 3.47 | 8.5     |\n",
    "| 1            | 0.042     | 143                  | 1       | 3.24 | 8.5     |\n",
    "<br>\n",
    "\n",
    "\n"
   ]
  },
  {
   "cell_type": "code",
   "execution_count": 66,
   "id": "5be88fca",
   "metadata": {},
   "outputs": [],
   "source": [
    "######################################\n",
    "# Importing source dataset using read_csv function from pandas\n",
    "# Default delimiter will be ',' and schema will be inferred from the data since no other paramets are provided\n",
    "######################################\n",
    "\n",
    "df = pd.read_csv('winequality-white.csv')"
   ]
  },
  {
   "cell_type": "markdown",
   "id": "70d110eb",
   "metadata": {},
   "source": [
    "# 2.1 DATA PREP\n",
    "\n",
    ">**Steps taken into account:**\n",
    ">- Gather data -->taken care in the previous steps\n",
    ">- Check Your data --> check that if all important features are taken into account\n",
    ">- format your data to make it consistent\n",
    ">- Reduce the data--> keep the data you need to train your model\n",
    ">- Complete Data cleaning\n",
    ">- Create new features out of existing ones--> depends on business Requirement"
   ]
  },
  {
   "cell_type": "code",
   "execution_count": 67,
   "id": "5802bde8",
   "metadata": {},
   "outputs": [
    {
     "name": "stdout",
     "output_type": "stream",
     "text": [
      "high_quality              int64\n",
      "chlorides               float64\n",
      "total_sulfur_dioxide    float64\n",
      "density                 float64\n",
      "pH                      float64\n",
      "alcohol                 float64\n",
      "dtype: object\n"
     ]
    }
   ],
   "source": [
    "print(df.dtypes)"
   ]
  },
  {
   "cell_type": "code",
   "execution_count": 68,
   "id": "efa9d6c5",
   "metadata": {},
   "outputs": [],
   "source": [
    "######################################\n",
    "# Using implicit location function of the dataframe to isolate Response and Predictor variables\n",
    "# first input represents all the row indexes and is represented by ':' and the second input represents the column indexes.\n",
    "# 'chlorides  total_sulfur_dioxide  density    pH  alcohol' --> these are the features or independent variables\n",
    "#'high_quality'--> this is the dependent variable and will be used to identify the quality of the wine\n",
    "######################################\n",
    "X = df.iloc[:,1:len(df.columns)]\n",
    "\n",
    "y = df.iloc[:,0]"
   ]
  },
  {
   "cell_type": "markdown",
   "id": "30619da5",
   "metadata": {},
   "source": [
    "### 2.1.1 Explore your data. Evaluate relationships between your data\n",
    "    1. Monovariate\n",
    "    2. bivariate\n",
    "    3. Multivariate Analysis"
   ]
  },
  {
   "cell_type": "code",
   "execution_count": 69,
   "id": "abedd9ae",
   "metadata": {},
   "outputs": [
    {
     "data": {
      "text/html": [
       "<div>\n",
       "<style scoped>\n",
       "    .dataframe tbody tr th:only-of-type {\n",
       "        vertical-align: middle;\n",
       "    }\n",
       "\n",
       "    .dataframe tbody tr th {\n",
       "        vertical-align: top;\n",
       "    }\n",
       "\n",
       "    .dataframe thead th {\n",
       "        text-align: right;\n",
       "    }\n",
       "</style>\n",
       "<table border=\"1\" class=\"dataframe\">\n",
       "  <thead>\n",
       "    <tr style=\"text-align: right;\">\n",
       "      <th></th>\n",
       "      <th>chlorides</th>\n",
       "      <th>total_sulfur_dioxide</th>\n",
       "      <th>density</th>\n",
       "      <th>pH</th>\n",
       "      <th>alcohol</th>\n",
       "    </tr>\n",
       "  </thead>\n",
       "  <tbody>\n",
       "    <tr>\n",
       "      <th>count</th>\n",
       "      <td>4898.000000</td>\n",
       "      <td>4898.000000</td>\n",
       "      <td>4898.000000</td>\n",
       "      <td>4898.000000</td>\n",
       "      <td>4898.000000</td>\n",
       "    </tr>\n",
       "    <tr>\n",
       "      <th>mean</th>\n",
       "      <td>0.045772</td>\n",
       "      <td>138.360657</td>\n",
       "      <td>0.994027</td>\n",
       "      <td>3.188267</td>\n",
       "      <td>10.514267</td>\n",
       "    </tr>\n",
       "    <tr>\n",
       "      <th>std</th>\n",
       "      <td>0.021848</td>\n",
       "      <td>42.498065</td>\n",
       "      <td>0.002991</td>\n",
       "      <td>0.151001</td>\n",
       "      <td>1.230621</td>\n",
       "    </tr>\n",
       "    <tr>\n",
       "      <th>min</th>\n",
       "      <td>0.009000</td>\n",
       "      <td>9.000000</td>\n",
       "      <td>0.987110</td>\n",
       "      <td>2.720000</td>\n",
       "      <td>8.000000</td>\n",
       "    </tr>\n",
       "    <tr>\n",
       "      <th>25%</th>\n",
       "      <td>0.036000</td>\n",
       "      <td>108.000000</td>\n",
       "      <td>0.991723</td>\n",
       "      <td>3.090000</td>\n",
       "      <td>9.500000</td>\n",
       "    </tr>\n",
       "    <tr>\n",
       "      <th>50%</th>\n",
       "      <td>0.043000</td>\n",
       "      <td>134.000000</td>\n",
       "      <td>0.993740</td>\n",
       "      <td>3.180000</td>\n",
       "      <td>10.400000</td>\n",
       "    </tr>\n",
       "    <tr>\n",
       "      <th>75%</th>\n",
       "      <td>0.050000</td>\n",
       "      <td>167.000000</td>\n",
       "      <td>0.996100</td>\n",
       "      <td>3.280000</td>\n",
       "      <td>11.400000</td>\n",
       "    </tr>\n",
       "    <tr>\n",
       "      <th>max</th>\n",
       "      <td>0.346000</td>\n",
       "      <td>440.000000</td>\n",
       "      <td>1.038980</td>\n",
       "      <td>3.820000</td>\n",
       "      <td>14.200000</td>\n",
       "    </tr>\n",
       "  </tbody>\n",
       "</table>\n",
       "</div>"
      ],
      "text/plain": [
       "         chlorides  total_sulfur_dioxide      density           pH  \\\n",
       "count  4898.000000           4898.000000  4898.000000  4898.000000   \n",
       "mean      0.045772            138.360657     0.994027     3.188267   \n",
       "std       0.021848             42.498065     0.002991     0.151001   \n",
       "min       0.009000              9.000000     0.987110     2.720000   \n",
       "25%       0.036000            108.000000     0.991723     3.090000   \n",
       "50%       0.043000            134.000000     0.993740     3.180000   \n",
       "75%       0.050000            167.000000     0.996100     3.280000   \n",
       "max       0.346000            440.000000     1.038980     3.820000   \n",
       "\n",
       "           alcohol  \n",
       "count  4898.000000  \n",
       "mean     10.514267  \n",
       "std       1.230621  \n",
       "min       8.000000  \n",
       "25%       9.500000  \n",
       "50%      10.400000  \n",
       "75%      11.400000  \n",
       "max      14.200000  "
      ]
     },
     "execution_count": 69,
     "metadata": {},
     "output_type": "execute_result"
    }
   ],
   "source": [
    "X.describe()                                                       # we are calculating all major statistics of our data"
   ]
  },
  {
   "cell_type": "code",
   "execution_count": 70,
   "id": "355d41eb",
   "metadata": {
    "scrolled": true
   },
   "outputs": [
    {
     "data": {
      "text/plain": [
       "Text(0.5, 1.0, 'Scatter plot on wine dataset')"
      ]
     },
     "execution_count": 70,
     "metadata": {},
     "output_type": "execute_result"
    },
    {
     "data": {
      "image/png": "[encoded data removed]",
      "text/plain": [
       "<Figure size 640x480 with 1 Axes>"
      ]
     },
     "metadata": {},
     "output_type": "display_data"
    }
   ],
   "source": [
    "#multivariate analysis\n",
    "#I want to look at the relationship of Alcohol vs density to compare the correlations for the two features\n",
    "\n",
    "plt.scatter(df['alcohol'],df['density'])\n",
    "plt.xlabel(' alcohol')\n",
    "plt.ylabel('density')\n",
    "plt.title('Scatter plot on wine dataset')"
   ]
  },
  {
   "cell_type": "code",
   "execution_count": 71,
   "id": "a88b76b2",
   "metadata": {},
   "outputs": [
    {
     "data": {
      "text/plain": [
       "<AxesSubplot:>"
      ]
     },
     "execution_count": 71,
     "metadata": {},
     "output_type": "execute_result"
    },
    {
     "data": {
      "image/png": "[encoded data removed]",
      "text/plain": [
       "<Figure size 640x480 with 1 Axes>"
      ]
     },
     "metadata": {},
     "output_type": "display_data"
    }
   ],
   "source": [
    "#plotting the fequency of our target variables\n",
    "\n",
    "df['high_quality'].value_counts().plot(kind ='bar')"
   ]
  },
  {
   "cell_type": "code",
   "execution_count": 72,
   "id": "1188c49f",
   "metadata": {},
   "outputs": [
    {
     "data": {
      "image/png": "[encoded data removed]",
      "text/plain": [
       "<Figure size 640x480 with 1 Axes>"
      ]
     },
     "metadata": {},
     "output_type": "display_data"
    }
   ],
   "source": [
    "df.alcohol.plot(kind='hist');"
   ]
  },
  {
   "cell_type": "markdown",
   "id": "ebc2e61b",
   "metadata": {},
   "source": [
    "# 3.Machine Learning\n",
    "## 3.1 Model selection\n",
    "   Model selection is the key feature for machine learning problem.A model has several limitations depending on the data distribution. Therefore any ideal model needs to be selected carefully.[model selection](https://scikit-learn.org/stable/model_selection.html)<br>\n",
    "   \n",
    "## 3.2 Feature Selection/ Engineering\n",
    "   Selecting key features for the process or creating new features out of existing ones based on business requirement.\n",
    "   \n",
    "\n",
    "   \n",
    "   \n",
    "   \n",
    "\n"
   ]
  },
  {
   "cell_type": "code",
   "execution_count": 73,
   "id": "b8286f02",
   "metadata": {},
   "outputs": [
    {
     "name": "stdout",
     "output_type": "stream",
     "text": [
      "   high_quality  chlorides  total_sulfur_dioxide  density    pH  alcohol  \\\n",
      "0             0      0.045                 170.0   1.0010  3.00      8.8   \n",
      "1             0      0.049                 132.0   0.9940  3.30      9.5   \n",
      "2             0      0.050                  97.0   0.9951  3.26     10.1   \n",
      "3             0      0.058                 186.0   0.9956  3.19      9.9   \n",
      "4             0      0.058                 186.0   0.9956  3.19      9.9   \n",
      "\n",
      "   age-density  \n",
      "0     8.791209  \n",
      "1     9.557344  \n",
      "2    10.149734  \n",
      "3     9.943753  \n",
      "4     9.943753  \n"
     ]
    },
    {
     "data": {
      "text/html": [
       "<style>#sk-container-id-1 {color: black;background-color: white;}#sk-container-id-1 pre{padding: 0;}#sk-container-id-1 div.sk-toggleable {background-color: white;}#sk-container-id-1 label.sk-toggleable__label {cursor: pointer;display: block;width: 100%;margin-bottom: 0;padding: 0.3em;box-sizing: border-box;text-align: center;}#sk-container-id-1 label.sk-toggleable__label-arrow:before {content: \"▸\";float: left;margin-right: 0.25em;color: #696969;}#sk-container-id-1 label.sk-toggleable__label-arrow:hover:before {color: black;}#sk-container-id-1 div.sk-estimator:hover label.sk-toggleable__label-arrow:before {color: black;}#sk-container-id-1 div.sk-toggleable__content {max-height: 0;max-width: 0;overflow: hidden;text-align: left;background-color: #f0f8ff;}#sk-container-id-1 div.sk-toggleable__content pre {margin: 0.2em;color: black;border-radius: 0.25em;background-color: #f0f8ff;}#sk-container-id-1 input.sk-toggleable__control:checked~div.sk-toggleable__content {max-height: 200px;max-width: 100%;overflow: auto;}#sk-container-id-1 input.sk-toggleable__control:checked~label.sk-toggleable__label-arrow:before {content: \"▾\";}#sk-container-id-1 div.sk-estimator input.sk-toggleable__control:checked~label.sk-toggleable__label {background-color: #d4ebff;}#sk-container-id-1 div.sk-label input.sk-toggleable__control:checked~label.sk-toggleable__label {background-color: #d4ebff;}#sk-container-id-1 input.sk-hidden--visually {border: 0;clip: rect(1px 1px 1px 1px);clip: rect(1px, 1px, 1px, 1px);height: 1px;margin: -1px;overflow: hidden;padding: 0;position: absolute;width: 1px;}#sk-container-id-1 div.sk-estimator {font-family: monospace;background-color: #f0f8ff;border: 1px dotted black;border-radius: 0.25em;box-sizing: border-box;margin-bottom: 0.5em;}#sk-container-id-1 div.sk-estimator:hover {background-color: #d4ebff;}#sk-container-id-1 div.sk-parallel-item::after {content: \"\";width: 100%;border-bottom: 1px solid gray;flex-grow: 1;}#sk-container-id-1 div.sk-label:hover label.sk-toggleable__label {background-color: #d4ebff;}#sk-container-id-1 div.sk-serial::before {content: \"\";position: absolute;border-left: 1px solid gray;box-sizing: border-box;top: 0;bottom: 0;left: 50%;z-index: 0;}#sk-container-id-1 div.sk-serial {display: flex;flex-direction: column;align-items: center;background-color: white;padding-right: 0.2em;padding-left: 0.2em;position: relative;}#sk-container-id-1 div.sk-item {position: relative;z-index: 1;}#sk-container-id-1 div.sk-parallel {display: flex;align-items: stretch;justify-content: center;background-color: white;position: relative;}#sk-container-id-1 div.sk-item::before, #sk-container-id-1 div.sk-parallel-item::before {content: \"\";position: absolute;border-left: 1px solid gray;box-sizing: border-box;top: 0;bottom: 0;left: 50%;z-index: -1;}#sk-container-id-1 div.sk-parallel-item {display: flex;flex-direction: column;z-index: 1;position: relative;background-color: white;}#sk-container-id-1 div.sk-parallel-item:first-child::after {align-self: flex-end;width: 50%;}#sk-container-id-1 div.sk-parallel-item:last-child::after {align-self: flex-start;width: 50%;}#sk-container-id-1 div.sk-parallel-item:only-child::after {width: 0;}#sk-container-id-1 div.sk-dashed-wrapped {border: 1px dashed gray;margin: 0 0.4em 0.5em 0.4em;box-sizing: border-box;padding-bottom: 0.4em;background-color: white;}#sk-container-id-1 div.sk-label label {font-family: monospace;font-weight: bold;display: inline-block;line-height: 1.2em;}#sk-container-id-1 div.sk-label-container {text-align: center;}#sk-container-id-1 div.sk-container {/* jupyter's `normalize.less` sets `[hidden] { display: none; }` but bootstrap.min.css set `[hidden] { display: none !important; }` so we also need the `!important` here to be able to override the default hidden behavior on the sphinx rendered scikit-learn.org. See: https://github.com/scikit-learn/scikit-learn/issues/21755 */display: inline-block !important;position: relative;}#sk-container-id-1 div.sk-text-repr-fallback {display: none;}</style><div id=\"sk-container-id-1\" class=\"sk-top-container\"><div class=\"sk-text-repr-fallback\"><pre>LogisticRegression(max_iter=800)</pre><b>In a Jupyter environment, please rerun this cell to show the HTML representation or trust the notebook. <br />On GitHub, the HTML representation is unable to render, please try loading this page with nbviewer.org.</b></div><div class=\"sk-container\" hidden><div class=\"sk-item\"><div class=\"sk-estimator sk-toggleable\"><input class=\"sk-toggleable__control sk-hidden--visually\" id=\"sk-estimator-id-1\" type=\"checkbox\" checked><label for=\"sk-estimator-id-1\" class=\"sk-toggleable__label sk-toggleable__label-arrow\">LogisticRegression</label><div class=\"sk-toggleable__content\"><pre>LogisticRegression(max_iter=800)</pre></div></div></div></div></div>"
      ],
      "text/plain": [
       "LogisticRegression(max_iter=800)"
      ]
     },
     "execution_count": 73,
     "metadata": {},
     "output_type": "execute_result"
    }
   ],
   "source": [
    "######################################\n",
    "#The Block below  represents logistic regression model where max iterations are set to 800\n",
    "# It is kind of a solver prediction model where probablility of variables are predicted based on classes of dependent variables\n",
    "# Max iterations provide the maximum iteration that can be taken by the solver to converge\n",
    "# X is the input variables and y is the prediction or output variable which has only 2 classes 0 and 1\n",
    "# Model.fit generalises the data on which it was trained. It accurately approximates the output when provided with unseen inputs.\n",
    "######################################\n",
    "df['age-density'] = df['alcohol']/df['density']\n",
    "print(df.head())\n",
    "model = LogisticRegression(max_iter=800)\n",
    "model.fit(X,y)\n",
    "\n",
    "\n"
   ]
  },
  {
   "cell_type": "markdown",
   "id": "6632f73c",
   "metadata": {},
   "source": [
    "## 3.3 Model Evaluation\n",
    "   Model evaluation is the process of checking the model performance to see how much our model is able to explain the data whereas model selection is the process of seeing the level of flexibility we need for describing the data.\n",
    "   \n",
    "## 3.4 Hyperparameter tuning\n",
    ">**These hyperparameters might address model design questions such as:**\n",
    "\n",
    ">- What degree of polynomial features should I use for my linear model?\n",
    ">- What should be the maximum depth allowed for my decision tree?\n",
    ">- What should be the minimum number of samples required at a leaf node in my decision tree?\n",
    ">- How many trees should I include in my random forest?\n",
    ">- How many neurons should I have in my neural network layer?\n",
    ">- How many layers should I have in my neural network?\n",
    ">- What should I set my learning rate to for gradient descent?\n",
    "   "
   ]
  },
  {
   "cell_type": "code",
   "execution_count": 74,
   "id": "f91ade87",
   "metadata": {},
   "outputs": [
    {
     "name": "stdout",
     "output_type": "stream",
     "text": [
      "0.8023683135973867\n"
     ]
    }
   ],
   "source": [
    "predictions = model.predict(X)\n",
    "print(accuracy_score(y,predictions))"
   ]
  },
  {
   "cell_type": "code",
   "execution_count": 75,
   "id": "3fee78c0",
   "metadata": {},
   "outputs": [],
   "source": [
    "\n",
    "######################################\n",
    "# Using pickle we are serializing the python object and storing values \n",
    "# 1. First we are opening a file which will be named 'classifier'\n",
    "# 2. Using dump we are then storing our python object 'model' to this file\n",
    "# 3. we are closing the file\n",
    "######################################\n",
    "\n",
    "\n",
    "pickle_out = open('classifier', mode='wb')\n",
    "pickle.dump(model, pickle_out)\n",
    "pickle_out.close()"
   ]
  },
  {
   "cell_type": "markdown",
   "id": "eebfbce6",
   "metadata": {},
   "source": [
    "# 4. Deployment\n",
    "   Deploying your model is the next most interesting thing. We are doing so that it can reach all the stakeholders.\n",
    "Here we are using streamlit to deploy our model on the local server. [streamlit guide](https://docs.streamlit.io/)\n",
    ">**Questions**\n",
    ">- What can we do to make this more interactive?\n",
    ">- Any limitations on the server?\n",
    ">- Using variables that are easy to comprehend\n",
    "\n",
    "\n",
    "\n",
    "   \n",
    "    "
   ]
  },
  {
   "cell_type": "code",
   "execution_count": 2,
   "id": "ff22aebe",
   "metadata": {},
   "outputs": [
    {
     "name": "stdout",
     "output_type": "stream",
     "text": [
      "Overwriting app.py\n"
     ]
    }
   ],
   "source": [
    "%%writefile app.py\n",
    "\n",
    "import pickle\n",
    "import streamlit as st\n",
    "\n",
    "\n",
    "\n",
    "pickle_in = open('classifier', 'rb')\n",
    "classifier = pickle.load(pickle_in)\n",
    "\n",
    "@st.cache()\n",
    "\n",
    "# Define the function which will make the prediction using data\n",
    "# inputs from users\n",
    "def prediction(chlorides, total_sulfur_dioxide,\n",
    "               density, pH, alcohol):\n",
    "    \n",
    "    # Make predictions\n",
    "    prediction = classifier.predict(\n",
    "        [[chlorides, total_sulfur_dioxide,\n",
    "               density, pH, alcohol]])\n",
    "    \n",
    "    if prediction == 0:\n",
    "        pred = 'Wine is of Bad Quality'\n",
    "    else:\n",
    "        pred = ' Congrats! This wine is of best Quality'\n",
    "    return pred\n",
    "\n",
    "# This is the main function in which we define our webpage\n",
    "def main():\n",
    "    \n",
    "    # Create input fields\n",
    "    chlorides = st.number_input(\"Number of chlorides(0-1)\",\n",
    "                                  min_value=0.000,\n",
    "                                  max_value=1.000,\n",
    "                                  value=0.01,\n",
    "                                  step=0.001,\n",
    "                                 )\n",
    "    total_sulfur_dioxide = st.number_input(\"total sulfur dioxide Level (0-200)\",\n",
    "                              min_value=0,\n",
    "                              max_value=200,\n",
    "                              value=120,\n",
    "                              step=10\n",
    "                             )\n",
    "\n",
    "    density = st.number_input(\"density Level (0-1)\",\n",
    "                              min_value=0.00,\n",
    "                              max_value=1.00,\n",
    "                              value=0.01,\n",
    "                              step=0.001\n",
    "                             )\n",
    "    pH = st.number_input(\"PH Index (0-10)\",\n",
    "                          min_value=0.00,\n",
    "                          max_value=10.00,\n",
    "                          value=5.3,\n",
    "                          step=0.01\n",
    "                         )\n",
    "    alcohol = st.number_input(\"alcohol in Years(max. 20)\",\n",
    "                          min_value=0,\n",
    "                          max_value=20,\n",
    "                          value=5,\n",
    "                          step=1\n",
    "                         )\n",
    "\n",
    "    result = \"\"\n",
    "    \n",
    "    # When 'Predict' is clicked, make the prediction and store it\n",
    "    if st.button(\"Predict\"):\n",
    "        result = prediction(chlorides, total_sulfur_dioxide,\n",
    "               density, pH, alcohol)\n",
    "        st.success(result)\n",
    "       \n",
    "if __name__=='__main__':\n",
    "    main()\n",
    "    "
   ]
  },
  {
   "cell_type": "code",
   "execution_count": null,
   "id": "5522e88b",
   "metadata": {},
   "outputs": [],
   "source": [
    "!streamlit run app.py"
   ]
  },
  {
   "cell_type": "code",
   "execution_count": 62,
   "id": "44d2bf89",
   "metadata": {},
   "outputs": [
    {
     "name": "stdout",
     "output_type": "stream",
     "text": [
      "^C\n"
     ]
    }
   ],
   "source": [
    "\n",
    "\n"
   ]
  }
 ],
 "metadata": {
  "kernelspec": {
   "display_name": "Python 3 (ipykernel)",
   "language": "python",
   "name": "python3"
  },
  "language_info": {
   "codemirror_mode": {
    "name": "ipython",
    "version": 3
   },
   "file_extension": ".py",
   "mimetype": "text/x-python",
   "name": "python",
   "nbconvert_exporter": "python",
   "pygments_lexer": "ipython3",
   "version": "3.10.4"
  }
 },
 "nbformat": 4,
 "nbformat_minor": 5
}
