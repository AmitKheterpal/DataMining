{
 "cells": [
  {
   "cell_type": "code",
   "execution_count": 1,
   "id": "42f4e006",
   "metadata": {},
   "outputs": [
    {
     "name": "stdout",
     "output_type": "stream",
     "text": [
      "0.8023683135973867\n"
     ]
    }
   ],
   "source": [
    "######################################\n",
    "# Importing various python libraries\n",
    "#  1. Pandas is a data analysis and manipulation library. We are using it to read the datasets\n",
    "#  2. sklearn is machine learning library of python. we need it for running the prediction model.\n",
    "#  3. pickle library is used for serializing a python object structure.\n",
    "######################################\n",
    "import pandas as pd\n",
    "from sklearn.linear_model import LogisticRegression\n",
    "from sklearn.metrics import accuracy_score\n",
    "import pickle\n",
    "\n",
    "######################################\n",
    "# Importing source dataset using read_csv function from pandas\n",
    "# Default delimiter will be ',' and schema will be inferred from the data since no other paramets are provided\n",
    "######################################\n",
    "\n",
    "df = pd.read_csv('winequality-white.csv')\n",
    "\n",
    "\n",
    "######################################\n",
    "# Using implicit location function of the dataframe to isolate Response and Predictor variables\n",
    "# first input represents all the row indexes and is represented by ':' and the second input represents the column indexes.\n",
    "# 'chlorides  total_sulfur_dioxide  density    pH  alcohol' --> these are the features or independent variables\n",
    "#'high_quality'--> this is the dependent variable and will be used to identify the quality of the wine\n",
    "######################################\n",
    "X = df.iloc[:,1:len(df.columns)]\n",
    "\n",
    "y = df.iloc[:,0]\n",
    "######################################\n",
    "#The Block below  represents logistic regression model where max iterations are set to 800\n",
    "# It is kind of a solver prediction model where probablility of variables are predicted based on classes of dependent variables\n",
    "# Max iterations provide the maximum iteration that can be taken by the solver to converge\n",
    "# X is the input variables and y is the prediction or output variable which has only 2 classes 0 and 1\n",
    "# Model.fit generalises the data on which it was trained. It accurately approximates the output when provided with unseen inputs.\n",
    "######################################\n",
    "\n",
    "model = LogisticRegression(max_iter=800)\n",
    "model.fit(X,y)\n",
    "######################################\n",
    "# Here we are predicting the variable 'High Quality' using all features\n",
    "# Also using sklearn metrics library, we are calculating the accuracy of our predictions\n",
    "######################################\n",
    "\n",
    "predictions = model.predict(X)\n",
    "print(accuracy_score(y,predictions))\n",
    "######################################\n",
    "# Using pickle we are serializing the python object and storing values \n",
    "# 1. First we are opening a file which will be named 'classifier'\n",
    "# 2. Using dump we are then storing our python object 'model' to this file\n",
    "# 3. we are closing the file\n",
    "######################################\n",
    "\n",
    "\n",
    "pickle_out = open('classifier', mode='wb')\n",
    "pickle.dump(model, pickle_out)\n",
    "pickle_out.close()"
   ]
  },
  {
   "cell_type": "code",
   "execution_count": 4,
   "id": "ff22aebe",
   "metadata": {},
   "outputs": [
    {
     "name": "stdout",
     "output_type": "stream",
     "text": [
      "Overwriting app.py\n"
     ]
    }
   ],
   "source": [
    "%%writefile app.py\n",
    "\n",
    "import pickle\n",
    "import streamlit as st\n",
    "\n",
    "\n",
    "\n",
    "pickle_in = open('classifier', 'rb')\n",
    "classifier = pickle.load(pickle_in)\n",
    "\n",
    "@st.cache()\n",
    "\n",
    "# Define the function which will make the prediction using data\n",
    "# inputs from users\n",
    "def prediction(chlorides, total_sulfur_dioxide,\n",
    "               density, pH, alcohol):\n",
    "    \n",
    "    # Make predictions\n",
    "    prediction = classifier.predict(\n",
    "        [[chlorides, total_sulfur_dioxide,\n",
    "               density, pH, alcohol]])\n",
    "    \n",
    "    if prediction == 0:\n",
    "        pred = 'Wine is of Bad Quality'\n",
    "    else:\n",
    "        pred = ' Congrats! This wine is of best Quality'\n",
    "    return pred\n",
    "\n",
    "# This is the main function in which we define our webpage\n",
    "def main():\n",
    "    \n",
    "    # Create input fields\n",
    "    chlorides = st.number_input(\"Number of chlorides(0-1)\",\n",
    "                                  min_value=0.000,\n",
    "                                  max_value=1.000,\n",
    "                                  value=0.01,\n",
    "                                  step=0.001,\n",
    "                                 )\n",
    "    total_sulfur_dioxide = st.number_input(\"total sulfur dioxide Level (0-200)\",\n",
    "                              min_value=0,\n",
    "                              max_value=200,\n",
    "                              value=120,\n",
    "                              step=10\n",
    "                             )\n",
    "\n",
    "    density = st.number_input(\"density Level (0-1)\",\n",
    "                              min_value=0.00,\n",
    "                              max_value=1.00,\n",
    "                              value=0.01,\n",
    "                              step=0.001\n",
    "                             )\n",
    "    pH = st.number_input(\"PH Index (0-10)\",\n",
    "                          min_value=0.00,\n",
    "                          max_value=10.00,\n",
    "                          value=5.3,\n",
    "                          step=0.01\n",
    "                         )\n",
    "    alcohol = st.number_input(\"alcohol in Years(max. 20)\",\n",
    "                          min_value=0,\n",
    "                          max_value=20,\n",
    "                          value=5,\n",
    "                          step=1\n",
    "                         )\n",
    "\n",
    "    result = \"\"\n",
    "    \n",
    "    # When 'Predict' is clicked, make the prediction and store it\n",
    "    if st.button(\"Predict\"):\n",
    "        result = prediction(chlorides, total_sulfur_dioxide,\n",
    "               density, pH, alcohol)\n",
    "        st.success(result)\n",
    "       \n",
    "if __name__=='__main__':\n",
    "    main()\n",
    "    "
   ]
  },
  {
   "cell_type": "code",
   "execution_count": 5,
   "id": "5522e88b",
   "metadata": {},
   "outputs": [
    {
     "name": "stdout",
     "output_type": "stream",
     "text": [
      "^C\n"
     ]
    }
   ],
   "source": [
    "!streamlit run app.py"
   ]
  },
  {
   "cell_type": "code",
   "execution_count": null,
   "id": "44d2bf89",
   "metadata": {},
   "outputs": [],
   "source": [
    "\n",
    "\n"
   ]
  },
  {
   "cell_type": "code",
   "execution_count": null,
   "id": "63bef1df",
   "metadata": {},
   "outputs": [],
   "source": []
  }
 ],
 "metadata": {
  "kernelspec": {
   "display_name": "Python 3 (ipykernel)",
   "language": "python",
   "name": "python3"
  },
  "language_info": {
   "codemirror_mode": {
    "name": "ipython",
    "version": 3
   },
   "file_extension": ".py",
   "mimetype": "text/x-python",
   "name": "python",
   "nbconvert_exporter": "python",
   "pygments_lexer": "ipython3",
   "version": "3.10.4"
  }
 },
 "nbformat": 4,
 "nbformat_minor": 5
}
