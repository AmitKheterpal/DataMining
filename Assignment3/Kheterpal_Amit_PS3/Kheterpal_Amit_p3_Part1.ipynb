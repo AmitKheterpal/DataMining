{
 "cells": [
  {
   "cell_type": "markdown",
   "id": "fc16cad5",
   "metadata": {},
   "source": [
    "<h1 style=\"text-align: center;\" >HR Utilization tool</h1>                                          \n",
    "\n",
    "<p align=\"center\">\n",
    "<img width=\"650\" src=\"https://media3.giphy.com/media/xTiTnpVDp86JbFCdzi/200w.webp?cid=ecf05e47rzwdkrwj6xwv2nc3gmqraj43bax3c66d5dvkgz1r&rid=200w.webp&ct=g\" alt=\"Assignment 2\" title=\"\" />\n",
    "    \n",
    "</p>\n",
    "    "
   ]
  },
  {
   "cell_type": "markdown",
   "id": "8d1cb061",
   "metadata": {},
   "source": [
    "# Table of Content: <a class=\"car\" id=\"table-of-content\"></a>\n",
    "* [1. Problem Background and Motivation](#problem-background)<br>\n",
    "* [2. Libraries ](#import-packages)<br>\n",
    " * [2.1 User Defined Functions](#udf)<br>    \n",
    "* [3. Data Preparation](#data-prep)<br>\n",
    "* [4. Machine Learning Model Implementation](#ml-model)<br>\n",
    "* [5. Deployment of Model](#model-deployment)<br><br>\n",
    "\n",
    "[Conclusion](#Conclusion)"
   ]
  },
  {
   "cell_type": "markdown",
   "id": "bfe47cba",
   "metadata": {},
   "source": [
    "# 1. Problem Background and Motivation <a class=\"car\" id=\"problem-background\"></a>\n",
    "\n",
    "### Resource Allocator for XYZ Company\n",
    "\n",
    ">**What is the problem in Question?**<br>\n",
    ">  By stating whether a work has been done or not, we hope to utilize all of the company's resources to the fullest extent possible. To forecast work completion, we'll use staff experience and training.<br><br>\n",
    "\n",
    ">**Who will be our stakeholders?**<br>\n",
    "> * HR department, in order for them to assign teams more effectively .<br>\n",
    "> * Clients—so they can keep track of task fulfillment and simplify the procedure.<br><br>\n",
    "\n",
    ">**Why is it important?**<br>\n",
    "> By using this technology, the HR department can boost employee productivity overall and make the best use of its resources.\n",
    "Additionally, this will avoid any unnecessary labour and may ultimately aid the business in boosting revenues. Additionally, it increases the clients' trust in the business by providing transparency.\n",
    "\n",
    "\n"
   ]
  },
  {
   "cell_type": "markdown",
   "id": "416022cd",
   "metadata": {},
   "source": [
    "# 2. Libraries Used <a class=\"car\" id=\"import-packages\"></a>\n",
    "* [Go to Top](#table-of-content)"
   ]
  },
  {
   "cell_type": "code",
   "execution_count": 1,
   "id": "1db0b64b",
   "metadata": {},
   "outputs": [],
   "source": [
    "######################################\n",
    "# Importing various python libraries\n",
    "#  1. Pandas is a data analysis and manipulation library. We are using it to read the datasets\n",
    "#  2. sklearn is machine learning library of python. we need it for running the prediction model.\n",
    "#  3. Multiple visualization libraries are given below\n",
    "######################################\n",
    "import pandas as pd\n",
    "import numpy as np\n",
    "\n",
    "# Graphics\n",
    "import seaborn as sns\n",
    "import matplotlib.pyplot as plt\n",
    "import plotly.graph_objects as go\n",
    "\n",
    "# ML\n",
    "from sklearn.model_selection import train_test_split\n",
    "from sklearn.linear_model import LogisticRegression\n",
    "from sklearn import metrics\n",
    "from sklearn.neighbors import KNeighborsClassifier\n",
    "from sklearn.metrics import classification_report, confusion_matrix, accuracy_score,roc_auc_score,roc_curve,plot_roc_curve\n",
    "\n",
    "pd.set_option('display.max_columns', None)\n",
    "\n",
    "pd.options.display.float_format = '{:,.2f}'.format"
   ]
  },
  {
   "cell_type": "markdown",
   "id": "f6799257",
   "metadata": {},
   "source": [
    "## 2.1 User Defined Functions <a class=\"car\" id=\"udf\"></a>\n",
    "* [Go to Top](#table-of-content)"
   ]
  },
  {
   "cell_type": "code",
   "execution_count": 2,
   "id": "f8831886",
   "metadata": {},
   "outputs": [],
   "source": [
    "#########################\n",
    "#Additional user defined functions \n",
    "#########################\n",
    "'''\n",
    "In this Function we are using inbuilt libraries to create a datafraem with all relevant performance measures\n",
    "'''\n",
    "def class_perf_measures(model,y_test,probab_threshold):\n",
    "    # Create empty lists to store metric values created within loop\n",
    "    TP = []\n",
    "    TN = []\n",
    "    FP = []\n",
    "    FN = []\n",
    "    recall = []\n",
    "    precision = []\n",
    "    F1 = []\n",
    "    Accuracy = []\n",
    "    AUC_ROC =[]    \n",
    "\n",
    "    # Start loop\n",
    "    for i in probab_threshold:\n",
    "\n",
    "        # Create class assignments given threshold value\n",
    "        y_test_pred_class = (model.predict_proba(X_test)[:,1] >= i).astype(int)\n",
    "\n",
    "        # Append lists with metric values\n",
    "        TP.append(metrics.confusion_matrix(y_test, y_test_pred_class)[1,1])\n",
    "        TN.append(metrics.confusion_matrix(y_test, y_test_pred_class)[0,0])\n",
    "        FP.append(metrics.confusion_matrix(y_test, y_test_pred_class)[0,1])\n",
    "        FN.append(metrics.confusion_matrix(y_test, y_test_pred_class)[1,0])\n",
    "        recall.append(metrics.recall_score(y_test, y_test_pred_class).round(3))\n",
    "        precision.append(metrics.precision_score(y_test, y_test_pred_class,zero_division=0).round(3))\n",
    "        F1.append(metrics.f1_score(y_test, y_test_pred_class).round(2))\n",
    "        Accuracy.append(metrics.accuracy_score(y_test, y_test_pred_class).round(2))\n",
    "        AUC_ROC.append(metrics.roc_auc_score(y_test, y_test_pred_class))\n",
    "\n",
    "    # Create dataframe\n",
    "    result = pd.DataFrame({\"threshold\":threshold,\n",
    "                           \"TP\":TP,\n",
    "                           \"TN\":TN,\n",
    "                           \"FP\":FP,\n",
    "                           \"FN\":FN,\n",
    "                           \"Precision\":precision,\n",
    "                           \"Recall\":recall,\n",
    "                           \"f1\":F1,\n",
    "                           \"AUC_ROC\":AUC_ROC,\n",
    "                           \"Accuracy\": Accuracy\n",
    "                          })\n",
    "\n",
    "    # Let's look at our dataframe\n",
    "    return result\n",
    "\n",
    "def data_stats(df,feature_list):\n",
    "    '''\n",
    "    This function we are calculating basic stats for all numerical columns. \n",
    "    To indicate outlier presence we are chcking if std/mean is greater than 1.5. Also if skewness of these columns\n",
    "    are outside +-3 range\n",
    "    '''\n",
    "    temp =  df[feature_list].describe().round(2).T\n",
    "    temp['median'] = df[feature_list].median().round(2)\n",
    "    temp['outlier_presence'] = np.where((temp['std']/temp['mean']>1.5)| (df[feature_list].skew(axis = 0)>3) |(df[feature_list].skew(axis = 0)<-3),'True','False')\n",
    "    return temp\n",
    "\n",
    "\n",
    "\n",
    "\n",
    "\n"
   ]
  },
  {
   "cell_type": "markdown",
   "id": "723ee692",
   "metadata": {},
   "source": [
    "# 3. Data Prep <a class=\"car\" id=\"data-prep\"></a>\n",
    "* [3.1. Data Ingestion](#data-ingest)<br>\n",
    "* [3.2. Remove Duplicates/Null values](#null-values)<br>\n",
    "* [3.3. Feature Selection](#numfeature-selection)<br>\n",
    " * [3.3.1 Dealing with Outliers](#outlier-detection)<br>\n",
    " * [3.3.2 Check correlation](#correlations)<br>\n",
    "\n",
    "* [3.4. Dealing with Categorical data](#categorical-data)<br>\n",
    " * [3.4.1 Reducing categorical data](#red-categorical-data)<br>\n",
    "* [3.5. Multivariate Analysis](#mul-analysis)<br>\n",
    "* [3.6. Feature Transformation and Finalization](#feature-transform)<br>\n",
    "* [3.7. Splitting the data](#data-split)\n",
    "* [3.8 Data Normalization](#normalization)\n",
    "\n",
    "\n",
    "\n",
    "\n",
    "<br><br>\n",
    "* [Go to Top](#table-of-content)"
   ]
  },
  {
   "cell_type": "markdown",
   "id": "d726da29",
   "metadata": {},
   "source": [
    "## 3.1 Data Ingestion <a class=\"car\" id=\"data-ingest\"></a>\n",
    "* [Go to Data Prep](#data-prep)"
   ]
  },
  {
   "cell_type": "code",
   "execution_count": 3,
   "id": "a0b31c0f",
   "metadata": {
    "scrolled": false
   },
   "outputs": [],
   "source": [
    "df = pd.read_csv(\"SystemAdministrators.csv\")\n",
    "\n",
    "# df.tail()\n",
    "\n",
    "# df.dtypes"
   ]
  },
  {
   "cell_type": "markdown",
   "id": "99a0a502",
   "metadata": {},
   "source": [
    "> **Initial Evaluation**<br>\n",
    "\n",
    "> task completed is our target.<br>\n",
    "\n",
    "| **Column name**   | **Data type**  | **Description**               | **Comment (if any)**                          |   |   |\n",
    "|-------------------|-----------|---------------------------|-------------------------------------------|---|---|\n",
    "| task_completed    | int64     | This indicates if a task is completed or not    |  This is our target                                         |   |   |\n",
    "| employee_experience             | float64    |experience of employee                 |                                           |   |   |\n",
    "| training_level4              | int64     | training level certified by the company    |  |   |   |\n",
    "| training_level6  | int64    | training level certified by the company                |                                           |   |   |\n",
    "| training_level8         | int64   | training level certified by the company |  |   |   |\n"
   ]
  },
  {
   "cell_type": "markdown",
   "id": "545fa60e",
   "metadata": {},
   "source": [
    "## 3.2 Remove Duplicates/Null values <a class=\"car\" id=\"null-values\"></a>\n",
    "* [Go to Data Prep](#data-prep)"
   ]
  },
  {
   "cell_type": "code",
   "execution_count": 4,
   "id": "1b7a341e",
   "metadata": {},
   "outputs": [
    {
     "name": "stdout",
     "output_type": "stream",
     "text": [
      "Number of records before removing duplicates: 75\n",
      "Number of records after removing duplicates: 64\n",
      "Duplicate records in the dataset: 11\n"
     ]
    }
   ],
   "source": [
    "######################################\n",
    "# Removing duplicates\n",
    "######################################\n",
    "cnt =df.shape[0]\n",
    "print(\"Number of records before removing duplicates: \"+str(cnt))\n",
    "\n",
    "df.drop_duplicates(inplace =True)\n",
    "\n",
    "print(\"Number of records after removing duplicates: \"+str(df.shape[0]))\n",
    "print(\"Duplicate records in the dataset: \"+str(cnt - df.shape[0]))"
   ]
  },
  {
   "cell_type": "markdown",
   "id": "1cc65bc3",
   "metadata": {},
   "source": [
    "**Note**: No Duplicates. Data is clean."
   ]
  },
  {
   "cell_type": "code",
   "execution_count": 5,
   "id": "2e2998ea",
   "metadata": {},
   "outputs": [
    {
     "data": {
      "text/plain": [
       "task_completed         0\n",
       "employee_experience    0\n",
       "training_level4        0\n",
       "training_level6        0\n",
       "training_level8        0\n",
       "dtype: int64"
      ]
     },
     "execution_count": 5,
     "metadata": {},
     "output_type": "execute_result"
    }
   ],
   "source": [
    "######################################\n",
    "# Removing Null values for our model to work\n",
    "######################################\n",
    "#This indicated sum of null values from all columns\n",
    "df.isnull().sum()"
   ]
  },
  {
   "cell_type": "markdown",
   "id": "ca5065fa",
   "metadata": {},
   "source": [
    ">**Decision:**\n",
    "> * No Null values\n"
   ]
  },
  {
   "cell_type": "markdown",
   "id": "c81a7de5",
   "metadata": {},
   "source": [
    "## 3.3 Numerical Feature Selection <a class=\"car\" id=\"numfeature-selection\"></a>\n",
    "* [Go to Data Prep](#data-prep)"
   ]
  },
  {
   "cell_type": "code",
   "execution_count": 6,
   "id": "67193ce9",
   "metadata": {},
   "outputs": [
    {
     "data": {
      "text/html": [
       "<div>\n",
       "<style scoped>\n",
       "    .dataframe tbody tr th:only-of-type {\n",
       "        vertical-align: middle;\n",
       "    }\n",
       "\n",
       "    .dataframe tbody tr th {\n",
       "        vertical-align: top;\n",
       "    }\n",
       "\n",
       "    .dataframe thead th {\n",
       "        text-align: right;\n",
       "    }\n",
       "</style>\n",
       "<table border=\"1\" class=\"dataframe\">\n",
       "  <thead>\n",
       "    <tr style=\"text-align: right;\">\n",
       "      <th></th>\n",
       "      <th>count</th>\n",
       "      <th>mean</th>\n",
       "      <th>std</th>\n",
       "      <th>min</th>\n",
       "      <th>25%</th>\n",
       "      <th>50%</th>\n",
       "      <th>75%</th>\n",
       "      <th>max</th>\n",
       "      <th>median</th>\n",
       "      <th>outlier_presence</th>\n",
       "    </tr>\n",
       "  </thead>\n",
       "  <tbody>\n",
       "    <tr>\n",
       "      <th>employee_experience</th>\n",
       "      <td>64.00</td>\n",
       "      <td>7.02</td>\n",
       "      <td>2.38</td>\n",
       "      <td>2.70</td>\n",
       "      <td>5.28</td>\n",
       "      <td>6.65</td>\n",
       "      <td>8.30</td>\n",
       "      <td>13.70</td>\n",
       "      <td>6.65</td>\n",
       "      <td>False</td>\n",
       "    </tr>\n",
       "  </tbody>\n",
       "</table>\n",
       "</div>"
      ],
      "text/plain": [
       "                     count  mean  std  min  25%  50%  75%   max  median  \\\n",
       "employee_experience  64.00  7.02 2.38 2.70 5.28 6.65 8.30 13.70    6.65   \n",
       "\n",
       "                    outlier_presence  \n",
       "employee_experience            False  "
      ]
     },
     "metadata": {},
     "output_type": "display_data"
    }
   ],
   "source": [
    "######################################\n",
    "# numeric features\n",
    "######################################\n",
    "\n",
    "numerical_features = ['employee_experience']\n",
    "stats = data_stats(df,numerical_features)\n",
    "display(stats)\n"
   ]
  },
  {
   "cell_type": "markdown",
   "id": "538a72d2",
   "metadata": {},
   "source": [
    "> **Numerical Feature Stats**<br>\n",
    "\n",
    "> Outlier Presence is calculated from ratio of standard deviation to mean and skewness in the data.<br>\n",
    "\n",
    "> **Outcome:**<br>\n",
    "> No Outlier detected. \n",
    "\n",
    "\n",
    "\n",
    "\n",
    "\n",
    "\n"
   ]
  },
  {
   "cell_type": "code",
   "execution_count": 7,
   "id": "2a3061b3",
   "metadata": {},
   "outputs": [
    {
     "data": {
      "image/png": "[encoded data removed]",
      "text/plain": [
       "<Figure size 500x500 with 1 Axes>"
      ]
     },
     "metadata": {},
     "output_type": "display_data"
    }
   ],
   "source": [
    "######################################\n",
    "# Plotting a histogram of our target variable MSRP\n",
    "######################################\n",
    "\n",
    "sns.displot(df['task_completed'])\n",
    "\n",
    "plt.show()"
   ]
  },
  {
   "cell_type": "markdown",
   "id": "d74bd807",
   "metadata": {},
   "source": [
    "> **Observation:**<br>\n",
    "> Since there are only 2 classes for our target, this makes sense."
   ]
  },
  {
   "cell_type": "markdown",
   "id": "f7496387",
   "metadata": {},
   "source": [
    "\n",
    "### 3.3.1 Dealing with Outliers <a class=\"car\" id=\"outlier-detection\"></a>\n",
    "* [Go to Data Prep](#data-prep)"
   ]
  },
  {
   "cell_type": "markdown",
   "id": "8d9f93c8",
   "metadata": {},
   "source": [
    "> **Action Items**<br>\n",
    "> Not Required"
   ]
  },
  {
   "cell_type": "markdown",
   "id": "578f876e",
   "metadata": {},
   "source": [
    "## 3.4 Categorical data <a class=\"car\" id=\"categorical-data\"></a>\n",
    "* [Go to Data Prep](#data-prep)"
   ]
  },
  {
   "cell_type": "markdown",
   "id": "dc714fe0",
   "metadata": {},
   "source": [
    "> **categorical variables in use:**<br>\n",
    "Data is already cleaned and we have isolated the required categorical variables i.e training_level4, training_level6,\ttraining_level8<br><br>\n",
    "\n",
    "\n"
   ]
  },
  {
   "cell_type": "markdown",
   "id": "ce77d1b7",
   "metadata": {},
   "source": [
    "## 3.5 Multivariate Analysis <a class=\"car\" id=\"mul-analysis\"></a>\n",
    "* [Go to Data Prep](#data-prep)"
   ]
  },
  {
   "cell_type": "markdown",
   "id": "907bcfad",
   "metadata": {},
   "source": [
    "### Multivariate Analysis outcome:<br><Br>\n",
    "\n",
    "> Not Required\n",
    "\n",
    "\n",
    "\n"
   ]
  },
  {
   "cell_type": "markdown",
   "id": "8168eada",
   "metadata": {},
   "source": [
    "## 3.5 Feature Transformation <a class=\"car\" id=\"feature-transform\"></a><br>\n",
    "\n",
    "> **Objective:** <br>\n",
    "> Not Required\n",
    "\n",
    "\n",
    "* [Go to Data Prep](#data-prep)"
   ]
  },
  {
   "cell_type": "markdown",
   "id": "e8338459",
   "metadata": {},
   "source": [
    "## 3.6 Splitting Data <a class=\"car\" id=\"data-split\"></a><br>\n",
    "> **Creating a test/train split**<br>\n",
    "* [Go to Data Prep](#data-prep)"
   ]
  },
  {
   "cell_type": "code",
   "execution_count": 8,
   "id": "b2c3e1ba",
   "metadata": {},
   "outputs": [],
   "source": [
    "predictors =['employee_experience','training_level4','training_level6','training_level8']\n",
    "\n",
    "target = ['task_completed']\n",
    "\n",
    "X = df[predictors]\n",
    "y = df[target]\n",
    "\n",
    "# Split data\n",
    "X_train,X_test,y_train,y_test = train_test_split(X,y, test_size=0.3,random_state=2)"
   ]
  },
  {
   "cell_type": "markdown",
   "id": "66e6b58b",
   "metadata": {},
   "source": [
    "## 3.7 Data Normalization <a class=\"car\" id=\"normalization\"></a><br>\n",
    "> **The goal of normalization is to change the values of numeric columns in the dataset to use a common scale, without distorting differences in the ranges of values or losing information**<br>\n",
    "> We want to use the summary stats(std dev. and mean) from training data to normalize both training and testing data. \n",
    "* [Go to Data Prep](#data-prep)"
   ]
  },
  {
   "cell_type": "code",
   "execution_count": 9,
   "id": "d2589044",
   "metadata": {},
   "outputs": [],
   "source": [
    "#We are going to use the Z score to normalize data\n",
    "means = X_train.mean()\n",
    "std = X_train.std()\n",
    "\n",
    "X_train = (X_train - means)/std\n",
    "X_test = (X_test - means)/std"
   ]
  },
  {
   "cell_type": "markdown",
   "id": "1f15db75",
   "metadata": {},
   "source": [
    "# 4. Machine Learning Model Implementation<a class=\"car\" id=\"ml-model\"></a>\n",
    "> * [KNN Model](#first-model)\n",
    "> * [Logistic Regression Model](#second-model)\n",
    "\n",
    "\n",
    "-\n",
    "\n",
    "\n",
    "<br><br>\n",
    "* [Go to Top](#table-of-content)"
   ]
  },
  {
   "cell_type": "markdown",
   "id": "ebaebb1b",
   "metadata": {},
   "source": [
    "> **KNN Model** <a class=\"car\" id=\"first-model\"></a>\n",
    "<br>\n",
    "> Objectives:<br>\n",
    "> * Run a KNN model for different values of K and select a best model based on accuracy.\n",
    "> * Compare with LR model for different metrics to finalise a model."
   ]
  },
  {
   "cell_type": "code",
   "execution_count": 10,
   "id": "4a6b1c16",
   "metadata": {},
   "outputs": [
    {
     "data": {
      "text/html": [
       "<div>\n",
       "<style scoped>\n",
       "    .dataframe tbody tr th:only-of-type {\n",
       "        vertical-align: middle;\n",
       "    }\n",
       "\n",
       "    .dataframe tbody tr th {\n",
       "        vertical-align: top;\n",
       "    }\n",
       "\n",
       "    .dataframe thead th {\n",
       "        text-align: right;\n",
       "    }\n",
       "</style>\n",
       "<table border=\"1\" class=\"dataframe\">\n",
       "  <thead>\n",
       "    <tr style=\"text-align: right;\">\n",
       "      <th></th>\n",
       "      <th>k</th>\n",
       "      <th>Accuracy</th>\n",
       "    </tr>\n",
       "  </thead>\n",
       "  <tbody>\n",
       "    <tr>\n",
       "      <th>0</th>\n",
       "      <td>1</td>\n",
       "      <td>0.70</td>\n",
       "    </tr>\n",
       "    <tr>\n",
       "      <th>1</th>\n",
       "      <td>3</td>\n",
       "      <td>0.85</td>\n",
       "    </tr>\n",
       "    <tr>\n",
       "      <th>2</th>\n",
       "      <td>5</td>\n",
       "      <td>0.80</td>\n",
       "    </tr>\n",
       "    <tr>\n",
       "      <th>3</th>\n",
       "      <td>7</td>\n",
       "      <td>0.75</td>\n",
       "    </tr>\n",
       "    <tr>\n",
       "      <th>4</th>\n",
       "      <td>9</td>\n",
       "      <td>0.75</td>\n",
       "    </tr>\n",
       "    <tr>\n",
       "      <th>5</th>\n",
       "      <td>11</td>\n",
       "      <td>0.75</td>\n",
       "    </tr>\n",
       "    <tr>\n",
       "      <th>6</th>\n",
       "      <td>13</td>\n",
       "      <td>0.75</td>\n",
       "    </tr>\n",
       "    <tr>\n",
       "      <th>7</th>\n",
       "      <td>15</td>\n",
       "      <td>0.75</td>\n",
       "    </tr>\n",
       "    <tr>\n",
       "      <th>8</th>\n",
       "      <td>17</td>\n",
       "      <td>0.75</td>\n",
       "    </tr>\n",
       "    <tr>\n",
       "      <th>9</th>\n",
       "      <td>19</td>\n",
       "      <td>0.75</td>\n",
       "    </tr>\n",
       "    <tr>\n",
       "      <th>10</th>\n",
       "      <td>21</td>\n",
       "      <td>0.75</td>\n",
       "    </tr>\n",
       "  </tbody>\n",
       "</table>\n",
       "</div>"
      ],
      "text/plain": [
       "     k  Accuracy\n",
       "0    1      0.70\n",
       "1    3      0.85\n",
       "2    5      0.80\n",
       "3    7      0.75\n",
       "4    9      0.75\n",
       "5   11      0.75\n",
       "6   13      0.75\n",
       "7   15      0.75\n",
       "8   17      0.75\n",
       "9   19      0.75\n",
       "10  21      0.75"
      ]
     },
     "execution_count": 10,
     "metadata": {},
     "output_type": "execute_result"
    }
   ],
   "source": [
    "K_values = [1, 3, 5, 7, 9, 11, 13, 15, 17, 19, 21]\n",
    "probab_threshold = 0.5\n",
    "results = []\n",
    "\n",
    "for i in K_values:\n",
    "    \n",
    "    knn = KNeighborsClassifier(n_neighbors=i)\n",
    "    knn.fit(X_train,y_train.values.ravel())\n",
    "#     print(knn.predict_proba(X_test))\n",
    "    y_prediction = (knn.predict_proba(X_test)[:,1]>= probab_threshold ).astype(int)\n",
    "    \n",
    "    results.append({'k':i,\n",
    "                   'Accuracy': metrics.accuracy_score(y_test,y_prediction)})\n",
    "    \n",
    "output = pd.DataFrame(results)\n",
    "\n",
    "output"
   ]
  },
  {
   "cell_type": "markdown",
   "id": "42a606ee",
   "metadata": {},
   "source": [
    "**Decision**: Using K = 5 since it is one of the k values with high accuracy"
   ]
  },
  {
   "cell_type": "code",
   "execution_count": 11,
   "id": "0fff8fd0",
   "metadata": {},
   "outputs": [
    {
     "data": {
      "text/html": [
       "<div>\n",
       "<style scoped>\n",
       "    .dataframe tbody tr th:only-of-type {\n",
       "        vertical-align: middle;\n",
       "    }\n",
       "\n",
       "    .dataframe tbody tr th {\n",
       "        vertical-align: top;\n",
       "    }\n",
       "\n",
       "    .dataframe thead th {\n",
       "        text-align: right;\n",
       "    }\n",
       "</style>\n",
       "<table border=\"1\" class=\"dataframe\">\n",
       "  <thead>\n",
       "    <tr style=\"text-align: right;\">\n",
       "      <th></th>\n",
       "      <th>threshold</th>\n",
       "      <th>TP</th>\n",
       "      <th>TN</th>\n",
       "      <th>FP</th>\n",
       "      <th>FN</th>\n",
       "      <th>Precision</th>\n",
       "      <th>Recall</th>\n",
       "      <th>f1</th>\n",
       "      <th>AUC_ROC</th>\n",
       "      <th>Accuracy</th>\n",
       "    </tr>\n",
       "  </thead>\n",
       "  <tbody>\n",
       "    <tr>\n",
       "      <th>0</th>\n",
       "      <td>0.00</td>\n",
       "      <td>5</td>\n",
       "      <td>0</td>\n",
       "      <td>15</td>\n",
       "      <td>0</td>\n",
       "      <td>0.25</td>\n",
       "      <td>1.00</td>\n",
       "      <td>0.40</td>\n",
       "      <td>0.50</td>\n",
       "      <td>0.25</td>\n",
       "    </tr>\n",
       "    <tr>\n",
       "      <th>1</th>\n",
       "      <td>0.10</td>\n",
       "      <td>5</td>\n",
       "      <td>6</td>\n",
       "      <td>9</td>\n",
       "      <td>0</td>\n",
       "      <td>0.36</td>\n",
       "      <td>1.00</td>\n",
       "      <td>0.53</td>\n",
       "      <td>0.70</td>\n",
       "      <td>0.55</td>\n",
       "    </tr>\n",
       "    <tr>\n",
       "      <th>2</th>\n",
       "      <td>0.20</td>\n",
       "      <td>5</td>\n",
       "      <td>6</td>\n",
       "      <td>9</td>\n",
       "      <td>0</td>\n",
       "      <td>0.36</td>\n",
       "      <td>1.00</td>\n",
       "      <td>0.53</td>\n",
       "      <td>0.70</td>\n",
       "      <td>0.55</td>\n",
       "    </tr>\n",
       "    <tr>\n",
       "      <th>3</th>\n",
       "      <td>0.30</td>\n",
       "      <td>4</td>\n",
       "      <td>12</td>\n",
       "      <td>3</td>\n",
       "      <td>1</td>\n",
       "      <td>0.57</td>\n",
       "      <td>0.80</td>\n",
       "      <td>0.67</td>\n",
       "      <td>0.80</td>\n",
       "      <td>0.80</td>\n",
       "    </tr>\n",
       "    <tr>\n",
       "      <th>4</th>\n",
       "      <td>0.40</td>\n",
       "      <td>4</td>\n",
       "      <td>12</td>\n",
       "      <td>3</td>\n",
       "      <td>1</td>\n",
       "      <td>0.57</td>\n",
       "      <td>0.80</td>\n",
       "      <td>0.67</td>\n",
       "      <td>0.80</td>\n",
       "      <td>0.80</td>\n",
       "    </tr>\n",
       "    <tr>\n",
       "      <th>5</th>\n",
       "      <td>0.50</td>\n",
       "      <td>2</td>\n",
       "      <td>14</td>\n",
       "      <td>1</td>\n",
       "      <td>3</td>\n",
       "      <td>0.67</td>\n",
       "      <td>0.40</td>\n",
       "      <td>0.50</td>\n",
       "      <td>0.67</td>\n",
       "      <td>0.80</td>\n",
       "    </tr>\n",
       "    <tr>\n",
       "      <th>6</th>\n",
       "      <td>0.60</td>\n",
       "      <td>0</td>\n",
       "      <td>15</td>\n",
       "      <td>0</td>\n",
       "      <td>5</td>\n",
       "      <td>0.00</td>\n",
       "      <td>0.00</td>\n",
       "      <td>0.00</td>\n",
       "      <td>0.50</td>\n",
       "      <td>0.75</td>\n",
       "    </tr>\n",
       "    <tr>\n",
       "      <th>7</th>\n",
       "      <td>0.70</td>\n",
       "      <td>0</td>\n",
       "      <td>15</td>\n",
       "      <td>0</td>\n",
       "      <td>5</td>\n",
       "      <td>0.00</td>\n",
       "      <td>0.00</td>\n",
       "      <td>0.00</td>\n",
       "      <td>0.50</td>\n",
       "      <td>0.75</td>\n",
       "    </tr>\n",
       "    <tr>\n",
       "      <th>8</th>\n",
       "      <td>0.80</td>\n",
       "      <td>0</td>\n",
       "      <td>15</td>\n",
       "      <td>0</td>\n",
       "      <td>5</td>\n",
       "      <td>0.00</td>\n",
       "      <td>0.00</td>\n",
       "      <td>0.00</td>\n",
       "      <td>0.50</td>\n",
       "      <td>0.75</td>\n",
       "    </tr>\n",
       "    <tr>\n",
       "      <th>9</th>\n",
       "      <td>0.90</td>\n",
       "      <td>0</td>\n",
       "      <td>15</td>\n",
       "      <td>0</td>\n",
       "      <td>5</td>\n",
       "      <td>0.00</td>\n",
       "      <td>0.00</td>\n",
       "      <td>0.00</td>\n",
       "      <td>0.50</td>\n",
       "      <td>0.75</td>\n",
       "    </tr>\n",
       "    <tr>\n",
       "      <th>10</th>\n",
       "      <td>1.00</td>\n",
       "      <td>0</td>\n",
       "      <td>15</td>\n",
       "      <td>0</td>\n",
       "      <td>5</td>\n",
       "      <td>0.00</td>\n",
       "      <td>0.00</td>\n",
       "      <td>0.00</td>\n",
       "      <td>0.50</td>\n",
       "      <td>0.75</td>\n",
       "    </tr>\n",
       "  </tbody>\n",
       "</table>\n",
       "</div>"
      ],
      "text/plain": [
       "    threshold  TP  TN  FP  FN  Precision  Recall   f1  AUC_ROC  Accuracy\n",
       "0        0.00   5   0  15   0       0.25    1.00 0.40     0.50      0.25\n",
       "1        0.10   5   6   9   0       0.36    1.00 0.53     0.70      0.55\n",
       "2        0.20   5   6   9   0       0.36    1.00 0.53     0.70      0.55\n",
       "3        0.30   4  12   3   1       0.57    0.80 0.67     0.80      0.80\n",
       "4        0.40   4  12   3   1       0.57    0.80 0.67     0.80      0.80\n",
       "5        0.50   2  14   1   3       0.67    0.40 0.50     0.67      0.80\n",
       "6        0.60   0  15   0   5       0.00    0.00 0.00     0.50      0.75\n",
       "7        0.70   0  15   0   5       0.00    0.00 0.00     0.50      0.75\n",
       "8        0.80   0  15   0   5       0.00    0.00 0.00     0.50      0.75\n",
       "9        0.90   0  15   0   5       0.00    0.00 0.00     0.50      0.75\n",
       "10       1.00   0  15   0   5       0.00    0.00 0.00     0.50      0.75"
      ]
     },
     "execution_count": 11,
     "metadata": {},
     "output_type": "execute_result"
    }
   ],
   "source": [
    "Model1 = KNeighborsClassifier(n_neighbors=5)\n",
    "Model1.fit(X_train,y_train.values.ravel())\n",
    "# threshold = [0.2,0.4,0.6]\n",
    "threshold = np.arange(0,1.1,0.1).tolist()\n",
    "result = class_perf_measures(Model1,y_test,threshold)\n",
    "result\n"
   ]
  },
  {
   "cell_type": "markdown",
   "id": "d6ebf274",
   "metadata": {},
   "source": [
    "> **LR Model** <a class=\"car\" id=\"second-model\"></a>\n",
    "<br>\n",
    "> Objectives:<br>\n",
    ">  1. Run a LR model and evaluate different performance measures. <br>\n",
    ">  2. compare various metrics to knn and choose a winning model"
   ]
  },
  {
   "cell_type": "code",
   "execution_count": 12,
   "id": "01857ad1",
   "metadata": {},
   "outputs": [
    {
     "name": "stdout",
     "output_type": "stream",
     "text": [
      "Accuracy score is  0.85\n"
     ]
    }
   ],
   "source": [
    "\n",
    "lr_model = LogisticRegression()\n",
    "lr_model.fit(X_train,y_train.values.ravel())\n",
    "\n",
    "y_train_pred_class_LR = lr_model.predict(X_train)\n",
    "y_test_pred_class_LR = lr_model.predict(X_test)\n",
    "\n",
    "print(\"Accuracy score is \",metrics.accuracy_score(y_test,y_test_pred_class_LR).round(2))\n",
    "\n"
   ]
  },
  {
   "cell_type": "markdown",
   "id": "df648bdc",
   "metadata": {},
   "source": [
    "**Note** : to calculate a winning model, I will be using AUC score."
   ]
  },
  {
   "cell_type": "code",
   "execution_count": 13,
   "id": "d7cc047d",
   "metadata": {},
   "outputs": [
    {
     "data": {
      "image/png": "[encoded data removed]",
      "text/plain": [
       "<Figure size 640x480 with 1 Axes>"
      ]
     },
     "metadata": {},
     "output_type": "display_data"
    }
   ],
   "source": [
    "y_pred_Lr = lr_model.predict_proba(X_test)[::,1]\n",
    "fpr, tpr, _ = metrics.roc_curve(y_test,  y_pred_Lr)\n",
    "auc1 = metrics.roc_auc_score(y_test, y_pred_Lr).round(2)\n",
    "\n",
    "#create ROC curve\n",
    "plt.plot(fpr,tpr,label=\"AUC=\"+str(auc1))\n",
    "plt.ylabel('True Positive Rate')\n",
    "plt.xlabel('False Positive Rate')\n",
    "plt.legend(loc=4)\n",
    "plt.savefig('LR_ROC_p1.png')\n",
    "plt.show()\n",
    "\n",
    "plt.close()"
   ]
  },
  {
   "cell_type": "code",
   "execution_count": 14,
   "id": "a4b4bd44",
   "metadata": {
    "scrolled": true
   },
   "outputs": [
    {
     "name": "stdout",
     "output_type": "stream",
     "text": [
      "KNN ROC curve\n"
     ]
    },
    {
     "data": {
      "image/png": "[encoded data removed]",
      "text/plain": [
       "<Figure size 640x480 with 1 Axes>"
      ]
     },
     "metadata": {},
     "output_type": "display_data"
    }
   ],
   "source": [
    "print('KNN ROC curve')\n",
    "y_pred_proba_KNN = Model1.predict_proba(X_test)[::,1]\n",
    "fpr, tpr, _ = metrics.roc_curve(y_test,  y_pred_proba_KNN)\n",
    "auc2 = metrics.roc_auc_score(y_test, y_pred_proba_KNN).round(2)\n",
    "\n",
    "#create ROC curve\n",
    "plt.plot(fpr,tpr,label=\"AUC=\"+str(auc2))\n",
    "plt.ylabel('True Positive Rate')\n",
    "plt.xlabel('False Positive Rate')\n",
    "plt.legend(loc=4)\n",
    "plt.savefig('KNN_ROC_p1.png')\n",
    "plt.show()\n",
    "plt.close()\n",
    "# plt.savefig('KNN_ROC.png')"
   ]
  },
  {
   "cell_type": "markdown",
   "id": "ee20bf9f",
   "metadata": {},
   "source": [
    "> **Final Model Selection**<br><br>\n",
    "> LR model has high AUC score.ROC is a probability curve and AUC represents the degree or measure of separability. It tells how much the model is capable of distinguishing between classes. Higher the AUC, the better the model is at predicting 0 classes as 0 and 1 classes as 1. By analogy, the Higher the AUC, the better the model is at distinguishing between task completed and task not completed.<br><br>\n",
    " Therefore, I will be using LR model for further evaluation.<br>\n",
    "> Some other evaluation measures for classification are:\n",
    "> * Classification accuracy.\n",
    "> * Confusion matrix.\n",
    "> * Precision and recall.\n",
    "> * F1 score.\n",
    "> * Sensitivity and specificity.\n",
    "> * ROC curve and AUC."
   ]
  },
  {
   "cell_type": "code",
   "execution_count": 15,
   "id": "b370bdc0",
   "metadata": {},
   "outputs": [
    {
     "data": {
      "text/html": [
       "<div>\n",
       "<style scoped>\n",
       "    .dataframe tbody tr th:only-of-type {\n",
       "        vertical-align: middle;\n",
       "    }\n",
       "\n",
       "    .dataframe tbody tr th {\n",
       "        vertical-align: top;\n",
       "    }\n",
       "\n",
       "    .dataframe thead th {\n",
       "        text-align: right;\n",
       "    }\n",
       "</style>\n",
       "<table border=\"1\" class=\"dataframe\">\n",
       "  <thead>\n",
       "    <tr style=\"text-align: right;\">\n",
       "      <th></th>\n",
       "      <th>threshold</th>\n",
       "      <th>TP</th>\n",
       "      <th>TN</th>\n",
       "      <th>FP</th>\n",
       "      <th>FN</th>\n",
       "      <th>Precision</th>\n",
       "      <th>Recall</th>\n",
       "      <th>f1</th>\n",
       "      <th>AUC_ROC</th>\n",
       "      <th>Accuracy</th>\n",
       "    </tr>\n",
       "  </thead>\n",
       "  <tbody>\n",
       "    <tr>\n",
       "      <th>0</th>\n",
       "      <td>0.00</td>\n",
       "      <td>5</td>\n",
       "      <td>0</td>\n",
       "      <td>15</td>\n",
       "      <td>0</td>\n",
       "      <td>0.25</td>\n",
       "      <td>1.00</td>\n",
       "      <td>0.40</td>\n",
       "      <td>0.50</td>\n",
       "      <td>0.25</td>\n",
       "    </tr>\n",
       "    <tr>\n",
       "      <th>1</th>\n",
       "      <td>0.10</td>\n",
       "      <td>5</td>\n",
       "      <td>8</td>\n",
       "      <td>7</td>\n",
       "      <td>0</td>\n",
       "      <td>0.42</td>\n",
       "      <td>1.00</td>\n",
       "      <td>0.59</td>\n",
       "      <td>0.77</td>\n",
       "      <td>0.65</td>\n",
       "    </tr>\n",
       "    <tr>\n",
       "      <th>2</th>\n",
       "      <td>0.20</td>\n",
       "      <td>4</td>\n",
       "      <td>13</td>\n",
       "      <td>2</td>\n",
       "      <td>1</td>\n",
       "      <td>0.67</td>\n",
       "      <td>0.80</td>\n",
       "      <td>0.73</td>\n",
       "      <td>0.83</td>\n",
       "      <td>0.85</td>\n",
       "    </tr>\n",
       "    <tr>\n",
       "      <th>3</th>\n",
       "      <td>0.30</td>\n",
       "      <td>3</td>\n",
       "      <td>13</td>\n",
       "      <td>2</td>\n",
       "      <td>2</td>\n",
       "      <td>0.60</td>\n",
       "      <td>0.60</td>\n",
       "      <td>0.60</td>\n",
       "      <td>0.73</td>\n",
       "      <td>0.80</td>\n",
       "    </tr>\n",
       "    <tr>\n",
       "      <th>4</th>\n",
       "      <td>0.40</td>\n",
       "      <td>3</td>\n",
       "      <td>14</td>\n",
       "      <td>1</td>\n",
       "      <td>2</td>\n",
       "      <td>0.75</td>\n",
       "      <td>0.60</td>\n",
       "      <td>0.67</td>\n",
       "      <td>0.77</td>\n",
       "      <td>0.85</td>\n",
       "    </tr>\n",
       "    <tr>\n",
       "      <th>5</th>\n",
       "      <td>0.50</td>\n",
       "      <td>2</td>\n",
       "      <td>15</td>\n",
       "      <td>0</td>\n",
       "      <td>3</td>\n",
       "      <td>1.00</td>\n",
       "      <td>0.40</td>\n",
       "      <td>0.57</td>\n",
       "      <td>0.70</td>\n",
       "      <td>0.85</td>\n",
       "    </tr>\n",
       "    <tr>\n",
       "      <th>6</th>\n",
       "      <td>0.60</td>\n",
       "      <td>2</td>\n",
       "      <td>15</td>\n",
       "      <td>0</td>\n",
       "      <td>3</td>\n",
       "      <td>1.00</td>\n",
       "      <td>0.40</td>\n",
       "      <td>0.57</td>\n",
       "      <td>0.70</td>\n",
       "      <td>0.85</td>\n",
       "    </tr>\n",
       "    <tr>\n",
       "      <th>7</th>\n",
       "      <td>0.70</td>\n",
       "      <td>0</td>\n",
       "      <td>15</td>\n",
       "      <td>0</td>\n",
       "      <td>5</td>\n",
       "      <td>0.00</td>\n",
       "      <td>0.00</td>\n",
       "      <td>0.00</td>\n",
       "      <td>0.50</td>\n",
       "      <td>0.75</td>\n",
       "    </tr>\n",
       "    <tr>\n",
       "      <th>8</th>\n",
       "      <td>0.80</td>\n",
       "      <td>0</td>\n",
       "      <td>15</td>\n",
       "      <td>0</td>\n",
       "      <td>5</td>\n",
       "      <td>0.00</td>\n",
       "      <td>0.00</td>\n",
       "      <td>0.00</td>\n",
       "      <td>0.50</td>\n",
       "      <td>0.75</td>\n",
       "    </tr>\n",
       "    <tr>\n",
       "      <th>9</th>\n",
       "      <td>0.90</td>\n",
       "      <td>0</td>\n",
       "      <td>15</td>\n",
       "      <td>0</td>\n",
       "      <td>5</td>\n",
       "      <td>0.00</td>\n",
       "      <td>0.00</td>\n",
       "      <td>0.00</td>\n",
       "      <td>0.50</td>\n",
       "      <td>0.75</td>\n",
       "    </tr>\n",
       "    <tr>\n",
       "      <th>10</th>\n",
       "      <td>1.00</td>\n",
       "      <td>0</td>\n",
       "      <td>15</td>\n",
       "      <td>0</td>\n",
       "      <td>5</td>\n",
       "      <td>0.00</td>\n",
       "      <td>0.00</td>\n",
       "      <td>0.00</td>\n",
       "      <td>0.50</td>\n",
       "      <td>0.75</td>\n",
       "    </tr>\n",
       "  </tbody>\n",
       "</table>\n",
       "</div>"
      ],
      "text/plain": [
       "    threshold  TP  TN  FP  FN  Precision  Recall   f1  AUC_ROC  Accuracy\n",
       "0        0.00   5   0  15   0       0.25    1.00 0.40     0.50      0.25\n",
       "1        0.10   5   8   7   0       0.42    1.00 0.59     0.77      0.65\n",
       "2        0.20   4  13   2   1       0.67    0.80 0.73     0.83      0.85\n",
       "3        0.30   3  13   2   2       0.60    0.60 0.60     0.73      0.80\n",
       "4        0.40   3  14   1   2       0.75    0.60 0.67     0.77      0.85\n",
       "5        0.50   2  15   0   3       1.00    0.40 0.57     0.70      0.85\n",
       "6        0.60   2  15   0   3       1.00    0.40 0.57     0.70      0.85\n",
       "7        0.70   0  15   0   5       0.00    0.00 0.00     0.50      0.75\n",
       "8        0.80   0  15   0   5       0.00    0.00 0.00     0.50      0.75\n",
       "9        0.90   0  15   0   5       0.00    0.00 0.00     0.50      0.75\n",
       "10       1.00   0  15   0   5       0.00    0.00 0.00     0.50      0.75"
      ]
     },
     "execution_count": 15,
     "metadata": {},
     "output_type": "execute_result"
    }
   ],
   "source": [
    "class_perf_measures(lr_model,y_test,threshold)"
   ]
  },
  {
   "cell_type": "markdown",
   "id": "3496b3f7",
   "metadata": {},
   "source": [
    "### Compare Different Thresholds <br>\n",
    ">  Remember that our objective is to determine if our model has marked the task completed or not based on employee experience and his training experience.<br>\n",
    "\n",
    "\n",
    "> We will be checking for precision(TP/(TP+FP)) to calculate our ideal threshold.<br>\n",
    "\n",
    "> 1. **Threshold value 0.1** <br>\n",
    ">   * **False Positives** : Given the low threshold value, many positive predictions can be made. There will also be a great deal of false positives. We can see from the table that we have 7 false positives, which results in a precision of 0.42, which is too low and shows that our model will make many false predictions. This makes sense because we are stating that if the calculated probability is as low as 10%, we can declare the outcome to be true.\n",
    ">   * **False Negatives** : For negative outcome the probabilty has to be atleast 0.9 which is very high. It means if the model is not absolute certain it will not give out a negative outcome. The false Negative value come out to be 0 for this threhold and recall is 1.<br>\n",
    "\n",
    ">False positives, in my opinion, can have serious effects on the business model since they can make stakeholders lose interest in the model if it indicates that a task is complete but is actually still unfinished. It may also result in significant losses and delays in finishing the task.<br>\n",
    "\n",
    "> 2. **Threshold value 0.6** <br>\n",
    ">   * **False Positives** : Given this threshold value, the probablity is very close to the default probablity 0.5. For this level, we are only receiving 3 false negatives and 0 false positives.\n",
    ">   * **False Negatives** : The false negative value will be 3 means we are indicating that a dtask is not finished even though it is.\n",
    ">   * As was previously said, our business model demands that false positives may have negative consequences. This is superior to our previous cutoff point of 0.2. Additionally, the accuracy is 85%, which is really good. <br>\n",
    "\n",
    "\n",
    "\n",
    "> 3. **Threshold value 0.8** <br>\n",
    ">  * This threshold value is really high. As a result, our model will typically forecast unfavorable results. As we can see from the table, both **TP and FP** have 0 values (True positive and false positive). showing that there are no records for which we marked the data finished.\n",
    ">  *  Although this resolves our false positive problem, it also decreases accuracy. Additionally, we are seeing an increase in false negative data, which suggests that our model is incorrectly categorizing completed tasks as unfinished.\n",
    "\n",
    "\n",
    "**I will either we using 0.6 or 0.5 which is also the default probablity as threshold value for our model**"
   ]
  },
  {
   "cell_type": "markdown",
   "id": "de16e976",
   "metadata": {},
   "source": []
  },
  {
   "cell_type": "markdown",
   "id": "019a4f94",
   "metadata": {},
   "source": [
    "# 5. Deployment of Model <a class=\"car\" id=\"model-deployment\"></a>\n",
    "\n",
    "* [Go to Top](#table-of-content)"
   ]
  },
  {
   "cell_type": "code",
   "execution_count": 16,
   "id": "bd2ac96f",
   "metadata": {},
   "outputs": [],
   "source": [
    "import pickle\n",
    "pickle_out = open('classifier1_sys_adm', mode='wb')\n",
    "pickle.dump([lr_model,knn,means.to_list(),std.to_list()], pickle_out)\n",
    "\n",
    "pickle_out.close()\n"
   ]
  },
  {
   "cell_type": "code",
   "execution_count": 17,
   "id": "f4e6ffb3",
   "metadata": {},
   "outputs": [
    {
     "name": "stdout",
     "output_type": "stream",
     "text": [
      "Writing system_administrator_app.py\n"
     ]
    }
   ],
   "source": [
    "%%writefile system_administrator_app.py\n",
    "import streamlit as st\n",
    "import pickle\n",
    "import numpy as np\n",
    "\n",
    "pickle_in = open('classifier1_sys_adm', 'rb')\n",
    "pkl_in = pickle.load(pickle_in)\n",
    "\n",
    "lr_model = pkl_in[0] \n",
    "knn = pkl_in[1]\n",
    "means = pkl_in[2]\n",
    "std = pkl_in[3]\n",
    "\n",
    "# pickle_in2 = open('classifier2', 'rb')\n",
    "# knn = pickle.load(pickle_in2)\n",
    "\n",
    "\n",
    "@st.cache()\n",
    "\n",
    "# Define the function which will make the prediction using data\n",
    "# inputs from users\n",
    "def prediction(input_list, prediction_probability, model_type ='LR'):\n",
    "    # Make predictions\n",
    "    if model_type =='LR':\n",
    "        prediction = (lr_model.predict_proba([input_list])[::,1]>= prediction_probability ).astype(int)\n",
    "    elif model_type =='KNN':\n",
    "        prediction = (knn.predict_proba([input_list])[::,1]>= prediction_probability ).astype(int)\n",
    "    \n",
    "    if prediction == 0:\n",
    "        pred = 'Task is incomplete'\n",
    "    else:\n",
    "        pred = ' Congrats! This task is already completed'\n",
    "    return pred\n",
    "def main():\n",
    "    st.markdown(\"<h1 style='text-align: center; color: red;'>HR Task Indicator</h1>\", unsafe_allow_html=True)\n",
    "\n",
    "    \n",
    "    # Create input fields\n",
    "    employee_experience = st.number_input(\"Experience of employee(0-20 yrs)\",\n",
    "                                  min_value=0,\n",
    "                                  max_value=20,\n",
    "                                  value=2,\n",
    "                                  step=1,\n",
    "                                 )\n",
    "    training_level4 = st.number_input(\"Select training level(4) (0-1)\",\n",
    "                              min_value=0,\n",
    "                              max_value=1,\n",
    "                              value=1,\n",
    "                              step=1\n",
    "                             )\n",
    "\n",
    "    training_level6 = st.number_input(\"Select training level(6) (0-1)\",\n",
    "                              min_value=0,\n",
    "                              max_value=1,\n",
    "                              value=1,\n",
    "                              step=1\n",
    "                             )\n",
    "    training_level8 = st.number_input(\"Select training level(8)\",\n",
    "                          min_value=0,\n",
    "                              max_value=1,\n",
    "                              value=1,\n",
    "                              step=1\n",
    "                         )\n",
    "    model_type = st.sidebar.selectbox(\"Model type\", ['KNN','LR'])\n",
    "    prediction_probability = [st.sidebar.slider(\"Probablity Threshold\",0.0, 1.0, 0.3, 0.01)]\n",
    "    \n",
    "    \n",
    "    #scaling data with test stats used for training\n",
    "    \n",
    "    \n",
    "    input_data = [employee_experience,training_level4,training_level6,training_level8]\n",
    "    input_list1 = np.divide(np.subtract(input_data,means),std).tolist()\n",
    "    \n",
    "    \n",
    "    \n",
    "    result = \"\"\n",
    "#     with st.sidebar:\n",
    "#         result = prediction(employee_experience,training_level4,training_level6,training_level8, prediction_probability, model_type)\n",
    "#         st.success(result)\n",
    "        \n",
    "\n",
    "    \n",
    "    # When 'Predict' is clicked, make the prediction and store it\n",
    "    if st.button(\"Predict\"):\n",
    "        result = prediction(input_list1, prediction_probability, model_type)\n",
    "        if result =='Congrats! This task is already completed':\n",
    "            st.balloons()\n",
    "        st.success(result)\n",
    "        \n",
    "    if st.button('Show ROC curve'):\n",
    "        if model_type =='KNN':\n",
    "            st.image('KNN_ROC_p1.png',caption='KNN ROC image')\n",
    "        elif model_type =='LR':\n",
    "            st.image('LR_ROC_p1.png',caption='LR ROC image')\n",
    "       \n",
    "if __name__=='__main__':\n",
    "    main()"
   ]
  },
  {
   "cell_type": "code",
   "execution_count": 18,
   "id": "2de4295c",
   "metadata": {
    "scrolled": true
   },
   "outputs": [
    {
     "name": "stdout",
     "output_type": "stream",
     "text": [
      "^C\n"
     ]
    }
   ],
   "source": [
    "!streamlit run system_administrator_app.py"
   ]
  },
  {
   "cell_type": "markdown",
   "id": "f494edbc",
   "metadata": {},
   "source": [
    "# Conclusion <a class=\"car\" id=\"Conclusion\"></a>\n",
    "\n",
    "> The model is fairly accurate and we can continue using default threshold for probability. We need more data to train our model so that it can be trained for fairly unpredicted data. Also we lack certain realistic parameters to train our model bbor real-time business application.\n",
    "\n",
    "\n",
    "\n",
    "\n",
    "* [Go to Top](#table-of-content)"
   ]
  }
 ],
 "metadata": {
  "kernelspec": {
   "display_name": "Python 3 (ipykernel)",
   "language": "python",
   "name": "python3"
  },
  "language_info": {
   "codemirror_mode": {
    "name": "ipython",
    "version": 3
   },
   "file_extension": ".py",
   "mimetype": "text/x-python",
   "name": "python",
   "nbconvert_exporter": "python",
   "pygments_lexer": "ipython3",
   "version": "3.10.4"
  }
 },
 "nbformat": 4,
 "nbformat_minor": 5
}
