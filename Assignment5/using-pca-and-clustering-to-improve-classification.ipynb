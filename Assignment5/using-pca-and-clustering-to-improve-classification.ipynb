{
 "cells": [
  {
   "cell_type": "markdown",
   "metadata": {
    "papermill": {
     "duration": 0.046832,
     "end_time": "2021-01-25T11:07:51.828318",
     "exception": false,
     "start_time": "2021-01-25T11:07:51.781486",
     "status": "completed"
    },
    "tags": []
   },
   "source": [
    "# Epileptic Seizure Recognition"
   ]
  },
  {
   "cell_type": "markdown",
   "metadata": {
    "papermill": {
     "duration": 0.045733,
     "end_time": "2021-01-25T11:07:51.920240",
     "exception": false,
     "start_time": "2021-01-25T11:07:51.874507",
     "status": "completed"
    },
    "tags": []
   },
   "source": [
    " Data Description"
   ]
  },
  {
   "cell_type": "markdown",
   "metadata": {
    "papermill": {
     "duration": 0.045775,
     "end_time": "2021-01-25T11:07:52.011762",
     "exception": false,
     "start_time": "2021-01-25T11:07:51.965987",
     "status": "completed"
    },
    "tags": []
   },
   "source": [
    "The following data has been downloaded from the UCI ML Repo. The following blurb has been taken directly from the data webpage (https://archive.ics.uci.edu/ml/datasets/Epileptic+Seizure+Recognition)"
   ]
  },
  {
   "cell_type": "markdown",
   "metadata": {
    "papermill": {
     "duration": 0.046056,
     "end_time": "2021-01-25T11:07:52.104080",
     "exception": false,
     "start_time": "2021-01-25T11:07:52.058024",
     "status": "completed"
    },
    "tags": []
   },
   "source": [
    "The original dataset from the reference consists of 5 different folders, each with 100 files, with each file representing a single subject/person. Each file is a recording of brain activity for 23.6 seconds. The corresponding time-series is sampled into 4097 data points. Each data point is the value of the EEG recording at a different point in time. So we have total 500 individuals with each has 4097 data points for 23.5 seconds. We divided and shuffled every 4097 data points into 23 chunks, each chunk contains 178 data points for 1 second, and each data point is the value of the EEG recording at a different point in time. So now we have 23 x 500 = 11500 pieces of information(row), each information contains 178 data points for 1 second(column), the last column represents the label y {1,2,3,4,5}. The response variable is y in column 179, the Explanatory variables X1, X2, ..., X178"
   ]
  },
  {
   "cell_type": "markdown",
   "metadata": {
    "papermill": {
     "duration": 0.047571,
     "end_time": "2021-01-25T11:07:52.199860",
     "exception": false,
     "start_time": "2021-01-25T11:07:52.152289",
     "status": "completed"
    },
    "tags": []
   },
   "source": [
    "The categories of y pertain to:<br>\n",
    "* 5 - eyes open, means when they were recording the EEG signal of the brain the patient had their eyes open<br>\n",
    "* 4 - eyes closed, means when they were recording the EEG signal the patient had their eyes closed<br>\n",
    "* 3 - Yes they identify where the region of the tumor was in the brain and recording the EEG activity from the healthy brain area<br>\n",
    "* 2 - They recorder the EEG from the area where the tumor was located<br>\n",
    "* 1 - Recording of seizure activity"
   ]
  },
  {
   "cell_type": "markdown",
   "metadata": {
    "papermill": {
     "duration": 0.045697,
     "end_time": "2021-01-25T11:07:52.293808",
     "exception": false,
     "start_time": "2021-01-25T11:07:52.248111",
     "status": "completed"
    },
    "tags": []
   },
   "source": [
    "All subjects falling in classes 2, 3, 4, and 5 are subjects who did not have epileptic seizure. Only subjects in class 1 have epileptic seizure. Our motivation for creating this version of the data was to simplify access to the data via the creation of a .csv version of it. Although there are 5 classes most authors have done binary classification, namely class 1 (Epileptic seizure) against the rest<br>\n",
    "For this reason we will use a binary classification."
   ]
  },
  {
   "cell_type": "markdown",
   "metadata": {
    "papermill": {
     "duration": 0.04557,
     "end_time": "2021-01-25T11:07:52.384619",
     "exception": false,
     "start_time": "2021-01-25T11:07:52.339049",
     "status": "completed"
    },
    "tags": []
   },
   "source": [
    "# Main Objective<br>\n",
    "The current primary objective is to compare how dimensionality reduction (PCA) and clustering affect classification performance.<br>\n",
    "I will split these into 2 discrete objectives. I will then test a few classification algos to determine the best approach to binary clf."
   ]
  },
  {
   "cell_type": "markdown",
   "metadata": {
    "papermill": {
     "duration": 0.04563,
     "end_time": "2021-01-25T11:07:52.476030",
     "exception": false,
     "start_time": "2021-01-25T11:07:52.430400",
     "status": "completed"
    },
    "tags": []
   },
   "source": [
    "# Import and Load "
   ]
  },
  {
   "cell_type": "code",
   "execution_count": 1,
   "metadata": {
    "execution": {
     "iopub.execute_input": "2021-01-25T11:07:52.575842Z",
     "iopub.status.busy": "2021-01-25T11:07:52.575169Z",
     "iopub.status.idle": "2021-01-25T11:07:53.478814Z",
     "shell.execute_reply": "2021-01-25T11:07:53.479352Z"
    },
    "papermill": {
     "duration": 0.956947,
     "end_time": "2021-01-25T11:07:53.479511",
     "exception": false,
     "start_time": "2021-01-25T11:07:52.522564",
     "status": "completed"
    },
    "tags": []
   },
   "outputs": [],
   "source": [
    "import pandas as pd\n",
    "import numpy as np\n",
    "import os\n",
    "import matplotlib.pyplot as plt\n",
    "import warnings \n",
    "import seaborn as sns\n",
    "warnings.filterwarnings('ignore')\n",
    "%matplotlib inline"
   ]
  },
  {
   "cell_type": "code",
   "execution_count": 2,
   "metadata": {
    "execution": {
     "iopub.execute_input": "2021-01-25T11:07:53.577803Z",
     "iopub.status.busy": "2021-01-25T11:07:53.577155Z",
     "iopub.status.idle": "2021-01-25T11:07:56.055067Z",
     "shell.execute_reply": "2021-01-25T11:07:56.054368Z"
    },
    "papermill": {
     "duration": 2.529578,
     "end_time": "2021-01-25T11:07:56.055175",
     "exception": false,
     "start_time": "2021-01-25T11:07:53.525597",
     "status": "completed"
    },
    "tags": []
   },
   "outputs": [],
   "source": [
    "data = pd.read_csv('../input/epileptic-seizure-recognition/Epileptic Seizure Recognition.csv', error_bad_lines=False, index_col=False, engine='python')\n",
    "data=data.drop('Unnamed', axis=1) # This col is uninformative"
   ]
  },
  {
   "cell_type": "markdown",
   "metadata": {
    "papermill": {
     "duration": 0.046252,
     "end_time": "2021-01-25T11:07:56.147669",
     "exception": false,
     "start_time": "2021-01-25T11:07:56.101417",
     "status": "completed"
    },
    "tags": []
   },
   "source": [
    "# Exploratory Data Analysis<br>\n",
    "Since all of the feature columns are not very well labelled (e.g. X1, X2, .. X177), and there are a huge number of them, I won't bother with any vis as it's not very informative."
   ]
  },
  {
   "cell_type": "markdown",
   "metadata": {
    "papermill": {
     "duration": 0.048062,
     "end_time": "2021-01-25T11:07:56.243195",
     "exception": false,
     "start_time": "2021-01-25T11:07:56.195133",
     "status": "completed"
    },
    "tags": []
   },
   "source": [
    "Lets first do some basic functions to understand the data"
   ]
  },
  {
   "cell_type": "markdown",
   "metadata": {
    "papermill": {
     "duration": 0.046142,
     "end_time": "2021-01-25T11:07:56.336126",
     "exception": false,
     "start_time": "2021-01-25T11:07:56.289984",
     "status": "completed"
    },
    "tags": []
   },
   "source": [
    "Whats the shape of the data?"
   ]
  },
  {
   "cell_type": "code",
   "execution_count": 3,
   "metadata": {
    "execution": {
     "iopub.execute_input": "2021-01-25T11:07:56.434327Z",
     "iopub.status.busy": "2021-01-25T11:07:56.433643Z",
     "iopub.status.idle": "2021-01-25T11:07:56.438751Z",
     "shell.execute_reply": "2021-01-25T11:07:56.437911Z"
    },
    "papermill": {
     "duration": 0.056225,
     "end_time": "2021-01-25T11:07:56.438879",
     "exception": false,
     "start_time": "2021-01-25T11:07:56.382654",
     "status": "completed"
    },
    "tags": []
   },
   "outputs": [
    {
     "name": "stdout",
     "output_type": "stream",
     "text": [
      "(11500, 179)\n"
     ]
    }
   ],
   "source": [
    "print(data.shape)"
   ]
  },
  {
   "cell_type": "markdown",
   "metadata": {
    "papermill": {
     "duration": 0.075161,
     "end_time": "2021-01-25T11:07:56.585698",
     "exception": false,
     "start_time": "2021-01-25T11:07:56.510537",
     "status": "completed"
    },
    "tags": []
   },
   "source": [
    "What columns do we have?"
   ]
  },
  {
   "cell_type": "code",
   "execution_count": 4,
   "metadata": {
    "execution": {
     "iopub.execute_input": "2021-01-25T11:07:56.753154Z",
     "iopub.status.busy": "2021-01-25T11:07:56.752240Z",
     "iopub.status.idle": "2021-01-25T11:07:56.757055Z",
     "shell.execute_reply": "2021-01-25T11:07:56.756346Z"
    },
    "papermill": {
     "duration": 0.088753,
     "end_time": "2021-01-25T11:07:56.757164",
     "exception": false,
     "start_time": "2021-01-25T11:07:56.668411",
     "status": "completed"
    },
    "tags": []
   },
   "outputs": [
    {
     "name": "stdout",
     "output_type": "stream",
     "text": [
      "['X1', 'X2', 'X3', 'X4', 'X5', 'X6', 'X7', 'X8', 'X9', 'X10', 'X11', 'X12', 'X13', 'X14', 'X15', 'X16', 'X17', 'X18', 'X19', 'X20', 'X21', 'X22', 'X23', 'X24', 'X25', 'X26', 'X27', 'X28', 'X29', 'X30', 'X31', 'X32', 'X33', 'X34', 'X35', 'X36', 'X37', 'X38', 'X39', 'X40', 'X41', 'X42', 'X43', 'X44', 'X45', 'X46', 'X47', 'X48', 'X49', 'X50', 'X51', 'X52', 'X53', 'X54', 'X55', 'X56', 'X57', 'X58', 'X59', 'X60', 'X61', 'X62', 'X63', 'X64', 'X65', 'X66', 'X67', 'X68', 'X69', 'X70', 'X71', 'X72', 'X73', 'X74', 'X75', 'X76', 'X77', 'X78', 'X79', 'X80', 'X81', 'X82', 'X83', 'X84', 'X85', 'X86', 'X87', 'X88', 'X89', 'X90', 'X91', 'X92', 'X93', 'X94', 'X95', 'X96', 'X97', 'X98', 'X99', 'X100', 'X101', 'X102', 'X103', 'X104', 'X105', 'X106', 'X107', 'X108', 'X109', 'X110', 'X111', 'X112', 'X113', 'X114', 'X115', 'X116', 'X117', 'X118', 'X119', 'X120', 'X121', 'X122', 'X123', 'X124', 'X125', 'X126', 'X127', 'X128', 'X129', 'X130', 'X131', 'X132', 'X133', 'X134', 'X135', 'X136', 'X137', 'X138', 'X139', 'X140', 'X141', 'X142', 'X143', 'X144', 'X145', 'X146', 'X147', 'X148', 'X149', 'X150', 'X151', 'X152', 'X153', 'X154', 'X155', 'X156', 'X157', 'X158', 'X159', 'X160', 'X161', 'X162', 'X163', 'X164', 'X165', 'X166', 'X167', 'X168', 'X169', 'X170', 'X171', 'X172', 'X173', 'X174', 'X175', 'X176', 'X177', 'X178', 'y']\n"
     ]
    }
   ],
   "source": [
    "print(data.columns.tolist())"
   ]
  },
  {
   "cell_type": "markdown",
   "metadata": {
    "papermill": {
     "duration": 0.047512,
     "end_time": "2021-01-25T11:07:56.853157",
     "exception": false,
     "start_time": "2021-01-25T11:07:56.805645",
     "status": "completed"
    },
    "tags": []
   },
   "source": [
    "What type are the columns?"
   ]
  },
  {
   "cell_type": "code",
   "execution_count": 5,
   "metadata": {
    "execution": {
     "iopub.execute_input": "2021-01-25T11:07:56.961204Z",
     "iopub.status.busy": "2021-01-25T11:07:56.960382Z",
     "iopub.status.idle": "2021-01-25T11:07:56.964118Z",
     "shell.execute_reply": "2021-01-25T11:07:56.963328Z"
    },
    "papermill": {
     "duration": 0.063095,
     "end_time": "2021-01-25T11:07:56.964241",
     "exception": false,
     "start_time": "2021-01-25T11:07:56.901146",
     "status": "completed"
    },
    "tags": []
   },
   "outputs": [
    {
     "name": "stdout",
     "output_type": "stream",
     "text": [
      "X1      int64\n",
      "X2      int64\n",
      "X3      int64\n",
      "X4      int64\n",
      "X5      int64\n",
      "        ...  \n",
      "X175    int64\n",
      "X176    int64\n",
      "X177    int64\n",
      "X178    int64\n",
      "y       int64\n",
      "Length: 179, dtype: object\n",
      "int64    179\n",
      "dtype: int64\n"
     ]
    }
   ],
   "source": [
    "print(data.dtypes)\n",
    "print(data.dtypes.value_counts())"
   ]
  },
  {
   "cell_type": "markdown",
   "metadata": {
    "papermill": {
     "duration": 0.0726,
     "end_time": "2021-01-25T11:07:57.110179",
     "exception": false,
     "start_time": "2021-01-25T11:07:57.037579",
     "status": "completed"
    },
    "tags": []
   },
   "source": [
    "Lets split the y variable into 1 (having seizure) and 0 (no seizure)"
   ]
  },
  {
   "cell_type": "code",
   "execution_count": 6,
   "metadata": {
    "execution": {
     "iopub.execute_input": "2021-01-25T11:07:57.269692Z",
     "iopub.status.busy": "2021-01-25T11:07:57.269064Z",
     "iopub.status.idle": "2021-01-25T11:07:57.291296Z",
     "shell.execute_reply": "2021-01-25T11:07:57.290755Z"
    },
    "papermill": {
     "duration": 0.107995,
     "end_time": "2021-01-25T11:07:57.291402",
     "exception": false,
     "start_time": "2021-01-25T11:07:57.183407",
     "status": "completed"
    },
    "tags": []
   },
   "outputs": [],
   "source": [
    "data['y']=np.where(data['y'] >1, 0,  1)"
   ]
  },
  {
   "cell_type": "markdown",
   "metadata": {
    "papermill": {
     "duration": 0.048453,
     "end_time": "2021-01-25T11:07:57.388592",
     "exception": false,
     "start_time": "2021-01-25T11:07:57.340139",
     "status": "completed"
    },
    "tags": []
   },
   "source": [
    "Is the data balanced?"
   ]
  },
  {
   "cell_type": "code",
   "execution_count": 7,
   "metadata": {
    "execution": {
     "iopub.execute_input": "2021-01-25T11:07:57.491917Z",
     "iopub.status.busy": "2021-01-25T11:07:57.491009Z",
     "iopub.status.idle": "2021-01-25T11:07:57.499916Z",
     "shell.execute_reply": "2021-01-25T11:07:57.500547Z"
    },
    "papermill": {
     "duration": 0.063238,
     "end_time": "2021-01-25T11:07:57.500708",
     "exception": false,
     "start_time": "2021-01-25T11:07:57.437470",
     "status": "completed"
    },
    "tags": []
   },
   "outputs": [
    {
     "data": {
      "text/plain": [
       "0    9200\n",
       "1    2300\n",
       "Name: y, dtype: int64"
      ]
     },
     "execution_count": 7,
     "metadata": {},
     "output_type": "execute_result"
    }
   ],
   "source": [
    "data.y.value_counts()"
   ]
  },
  {
   "cell_type": "markdown",
   "metadata": {
    "papermill": {
     "duration": 0.073447,
     "end_time": "2021-01-25T11:07:57.648835",
     "exception": false,
     "start_time": "2021-01-25T11:07:57.575388",
     "status": "completed"
    },
    "tags": []
   },
   "source": [
    "The data is not balanced. We'll need to pay attention to the scoring metrics and stratifying splitting. I won't bother up/down sampling for this current exercise."
   ]
  },
  {
   "cell_type": "markdown",
   "metadata": {
    "papermill": {
     "duration": 0.073388,
     "end_time": "2021-01-25T11:07:57.796055",
     "exception": false,
     "start_time": "2021-01-25T11:07:57.722667",
     "status": "completed"
    },
    "tags": []
   },
   "source": [
    "Do some cols have NA's?"
   ]
  },
  {
   "cell_type": "code",
   "execution_count": 8,
   "metadata": {
    "execution": {
     "iopub.execute_input": "2021-01-25T11:07:57.949432Z",
     "iopub.status.busy": "2021-01-25T11:07:57.948199Z",
     "iopub.status.idle": "2021-01-25T11:07:57.957451Z",
     "shell.execute_reply": "2021-01-25T11:07:57.956834Z"
    },
    "papermill": {
     "duration": 0.087563,
     "end_time": "2021-01-25T11:07:57.957557",
     "exception": false,
     "start_time": "2021-01-25T11:07:57.869994",
     "status": "completed"
    },
    "tags": []
   },
   "outputs": [
    {
     "name": "stdout",
     "output_type": "stream",
     "text": [
      "y       0\n",
      "X45     0\n",
      "X65     0\n",
      "X64     0\n",
      "X63     0\n",
      "       ..\n",
      "X118    0\n",
      "X117    0\n",
      "X116    0\n",
      "X115    0\n",
      "X1      0\n",
      "Length: 179, dtype: int64\n"
     ]
    }
   ],
   "source": [
    "print(data.isna().sum().sort_values(ascending=False))"
   ]
  },
  {
   "cell_type": "markdown",
   "metadata": {
    "papermill": {
     "duration": 0.04974,
     "end_time": "2021-01-25T11:07:58.056958",
     "exception": false,
     "start_time": "2021-01-25T11:07:58.007218",
     "status": "completed"
    },
    "tags": []
   },
   "source": [
    "Great, we're working with complete data. Lets consider the distribution/skew of features."
   ]
  },
  {
   "cell_type": "code",
   "execution_count": 9,
   "metadata": {
    "execution": {
     "iopub.execute_input": "2021-01-25T11:07:58.166220Z",
     "iopub.status.busy": "2021-01-25T11:07:58.165593Z",
     "iopub.status.idle": "2021-01-25T11:07:58.168363Z",
     "shell.execute_reply": "2021-01-25T11:07:58.168836Z"
    },
    "papermill": {
     "duration": 0.062408,
     "end_time": "2021-01-25T11:07:58.168973",
     "exception": false,
     "start_time": "2021-01-25T11:07:58.106565",
     "status": "completed"
    },
    "tags": []
   },
   "outputs": [],
   "source": [
    "feature_cols=data.drop('y', axis=1).columns"
   ]
  },
  {
   "cell_type": "code",
   "execution_count": 10,
   "metadata": {
    "execution": {
     "iopub.execute_input": "2021-01-25T11:07:58.276959Z",
     "iopub.status.busy": "2021-01-25T11:07:58.276180Z",
     "iopub.status.idle": "2021-01-25T11:07:58.302427Z",
     "shell.execute_reply": "2021-01-25T11:07:58.301905Z"
    },
    "papermill": {
     "duration": 0.084349,
     "end_time": "2021-01-25T11:07:58.302541",
     "exception": false,
     "start_time": "2021-01-25T11:07:58.218192",
     "status": "completed"
    },
    "tags": []
   },
   "outputs": [],
   "source": [
    "log_columns = data[feature_cols].skew().sort_values(ascending=False)\n",
    "to_log = log_columns.loc[log_columns > 0.75]"
   ]
  },
  {
   "cell_type": "code",
   "execution_count": 11,
   "metadata": {
    "execution": {
     "iopub.execute_input": "2021-01-25T11:07:58.405626Z",
     "iopub.status.busy": "2021-01-25T11:07:58.404705Z",
     "iopub.status.idle": "2021-01-25T11:07:58.410534Z",
     "shell.execute_reply": "2021-01-25T11:07:58.409936Z"
    },
    "papermill": {
     "duration": 0.058953,
     "end_time": "2021-01-25T11:07:58.410633",
     "exception": false,
     "start_time": "2021-01-25T11:07:58.351680",
     "status": "completed"
    },
    "tags": []
   },
   "outputs": [
    {
     "name": "stdout",
     "output_type": "stream",
     "text": [
      "The number of columns which are sufficiently skewed to require transformation is:  0\n"
     ]
    }
   ],
   "source": [
    "print('The number of columns which are sufficiently skewed to require transformation is: ', len(to_log))"
   ]
  },
  {
   "cell_type": "markdown",
   "metadata": {
    "papermill": {
     "duration": 0.049204,
     "end_time": "2021-01-25T11:07:58.509018",
     "exception": false,
     "start_time": "2021-01-25T11:07:58.459814",
     "status": "completed"
    },
    "tags": []
   },
   "source": [
    "So we can avoid transforming at feature cols."
   ]
  },
  {
   "cell_type": "markdown",
   "metadata": {
    "papermill": {
     "duration": 0.049131,
     "end_time": "2021-01-25T11:07:58.608012",
     "exception": false,
     "start_time": "2021-01-25T11:07:58.558881",
     "status": "completed"
    },
    "tags": []
   },
   "source": [
    "# Scaling<br>\n",
    "Before any kind of dimension reduction we must ensure to scale the data"
   ]
  },
  {
   "cell_type": "code",
   "execution_count": 12,
   "metadata": {
    "execution": {
     "iopub.execute_input": "2021-01-25T11:07:58.712936Z",
     "iopub.status.busy": "2021-01-25T11:07:58.712280Z",
     "iopub.status.idle": "2021-01-25T11:07:58.772835Z",
     "shell.execute_reply": "2021-01-25T11:07:58.772174Z"
    },
    "papermill": {
     "duration": 0.115622,
     "end_time": "2021-01-25T11:07:58.772952",
     "exception": false,
     "start_time": "2021-01-25T11:07:58.657330",
     "status": "completed"
    },
    "tags": []
   },
   "outputs": [],
   "source": [
    "data_orig = data.copy() # quickly make a copy before we change the data too much\n",
    "from sklearn.preprocessing import MinMaxScaler"
   ]
  },
  {
   "cell_type": "code",
   "execution_count": 13,
   "metadata": {
    "execution": {
     "iopub.execute_input": "2021-01-25T11:07:58.906294Z",
     "iopub.status.busy": "2021-01-25T11:07:58.905100Z",
     "iopub.status.idle": "2021-01-25T11:07:58.910867Z",
     "shell.execute_reply": "2021-01-25T11:07:58.911561Z"
    },
    "papermill": {
     "duration": 0.082594,
     "end_time": "2021-01-25T11:07:58.911770",
     "exception": false,
     "start_time": "2021-01-25T11:07:58.829176",
     "status": "completed"
    },
    "tags": []
   },
   "outputs": [],
   "source": [
    "scaler = MinMaxScaler()"
   ]
  },
  {
   "cell_type": "code",
   "execution_count": 14,
   "metadata": {
    "execution": {
     "iopub.execute_input": "2021-01-25T11:07:59.082573Z",
     "iopub.status.busy": "2021-01-25T11:07:59.081451Z",
     "iopub.status.idle": "2021-01-25T11:08:00.912587Z",
     "shell.execute_reply": "2021-01-25T11:08:00.911782Z"
    },
    "papermill": {
     "duration": 1.913297,
     "end_time": "2021-01-25T11:08:00.912712",
     "exception": false,
     "start_time": "2021-01-25T11:07:58.999415",
     "status": "completed"
    },
    "tags": []
   },
   "outputs": [
    {
     "data": {
      "text/html": [
       "<div>\n",
       "<style scoped>\n",
       "    .dataframe tbody tr th:only-of-type {\n",
       "        vertical-align: middle;\n",
       "    }\n",
       "\n",
       "    .dataframe tbody tr th {\n",
       "        vertical-align: top;\n",
       "    }\n",
       "\n",
       "    .dataframe thead th {\n",
       "        text-align: right;\n",
       "    }\n",
       "</style>\n",
       "<table border=\"1\" class=\"dataframe\">\n",
       "  <thead>\n",
       "    <tr style=\"text-align: right;\">\n",
       "      <th></th>\n",
       "      <th>X1</th>\n",
       "      <th>X2</th>\n",
       "      <th>X3</th>\n",
       "      <th>X4</th>\n",
       "      <th>X5</th>\n",
       "      <th>X6</th>\n",
       "      <th>X7</th>\n",
       "      <th>X8</th>\n",
       "      <th>X9</th>\n",
       "      <th>X10</th>\n",
       "      <th>...</th>\n",
       "      <th>X170</th>\n",
       "      <th>X171</th>\n",
       "      <th>X172</th>\n",
       "      <th>X173</th>\n",
       "      <th>X174</th>\n",
       "      <th>X175</th>\n",
       "      <th>X176</th>\n",
       "      <th>X177</th>\n",
       "      <th>X178</th>\n",
       "      <th>y</th>\n",
       "    </tr>\n",
       "  </thead>\n",
       "  <tbody>\n",
       "    <tr>\n",
       "      <th>count</th>\n",
       "      <td>11500.000000</td>\n",
       "      <td>11500.000000</td>\n",
       "      <td>11500.000000</td>\n",
       "      <td>11500.000000</td>\n",
       "      <td>11500.000000</td>\n",
       "      <td>11500.000000</td>\n",
       "      <td>11500.000000</td>\n",
       "      <td>11500.000000</td>\n",
       "      <td>11500.000000</td>\n",
       "      <td>11500.000000</td>\n",
       "      <td>...</td>\n",
       "      <td>11500.000000</td>\n",
       "      <td>11500.000000</td>\n",
       "      <td>11500.000000</td>\n",
       "      <td>11500.000000</td>\n",
       "      <td>11500.000000</td>\n",
       "      <td>11500.000000</td>\n",
       "      <td>11500.000000</td>\n",
       "      <td>11500.000000</td>\n",
       "      <td>11500.000000</td>\n",
       "      <td>11500.000000</td>\n",
       "    </tr>\n",
       "    <tr>\n",
       "      <th>mean</th>\n",
       "      <td>0.512600</td>\n",
       "      <td>0.514528</td>\n",
       "      <td>0.516651</td>\n",
       "      <td>0.531055</td>\n",
       "      <td>0.538831</td>\n",
       "      <td>0.489784</td>\n",
       "      <td>0.470610</td>\n",
       "      <td>0.463088</td>\n",
       "      <td>0.471686</td>\n",
       "      <td>0.475430</td>\n",
       "      <td>...</td>\n",
       "      <td>0.509565</td>\n",
       "      <td>0.555400</td>\n",
       "      <td>0.550171</td>\n",
       "      <td>0.541099</td>\n",
       "      <td>0.514764</td>\n",
       "      <td>0.484155</td>\n",
       "      <td>0.461937</td>\n",
       "      <td>0.454312</td>\n",
       "      <td>0.485258</td>\n",
       "      <td>0.200000</td>\n",
       "    </tr>\n",
       "    <tr>\n",
       "      <th>std</th>\n",
       "      <td>0.046459</td>\n",
       "      <td>0.046764</td>\n",
       "      <td>0.046298</td>\n",
       "      <td>0.046650</td>\n",
       "      <td>0.048655</td>\n",
       "      <td>0.045152</td>\n",
       "      <td>0.041626</td>\n",
       "      <td>0.042384</td>\n",
       "      <td>0.041686</td>\n",
       "      <td>0.040990</td>\n",
       "      <td>...</td>\n",
       "      <td>0.045185</td>\n",
       "      <td>0.049790</td>\n",
       "      <td>0.056925</td>\n",
       "      <td>0.053358</td>\n",
       "      <td>0.046473</td>\n",
       "      <td>0.042984</td>\n",
       "      <td>0.042554</td>\n",
       "      <td>0.043160</td>\n",
       "      <td>0.044031</td>\n",
       "      <td>0.400017</td>\n",
       "    </tr>\n",
       "    <tr>\n",
       "      <th>min</th>\n",
       "      <td>0.000000</td>\n",
       "      <td>0.000000</td>\n",
       "      <td>0.000000</td>\n",
       "      <td>0.000000</td>\n",
       "      <td>0.000000</td>\n",
       "      <td>0.000000</td>\n",
       "      <td>0.000000</td>\n",
       "      <td>0.000000</td>\n",
       "      <td>0.000000</td>\n",
       "      <td>0.000000</td>\n",
       "      <td>...</td>\n",
       "      <td>0.000000</td>\n",
       "      <td>0.000000</td>\n",
       "      <td>0.000000</td>\n",
       "      <td>0.000000</td>\n",
       "      <td>0.000000</td>\n",
       "      <td>0.000000</td>\n",
       "      <td>0.000000</td>\n",
       "      <td>0.000000</td>\n",
       "      <td>0.000000</td>\n",
       "      <td>0.000000</td>\n",
       "    </tr>\n",
       "    <tr>\n",
       "      <th>25%</th>\n",
       "      <td>0.500701</td>\n",
       "      <td>0.502112</td>\n",
       "      <td>0.504247</td>\n",
       "      <td>0.518079</td>\n",
       "      <td>0.524932</td>\n",
       "      <td>0.476630</td>\n",
       "      <td>0.458366</td>\n",
       "      <td>0.450458</td>\n",
       "      <td>0.459223</td>\n",
       "      <td>0.463209</td>\n",
       "      <td>...</td>\n",
       "      <td>0.497256</td>\n",
       "      <td>0.542104</td>\n",
       "      <td>0.535630</td>\n",
       "      <td>0.527699</td>\n",
       "      <td>0.503195</td>\n",
       "      <td>0.472913</td>\n",
       "      <td>0.450888</td>\n",
       "      <td>0.443031</td>\n",
       "      <td>0.473825</td>\n",
       "      <td>0.000000</td>\n",
       "    </tr>\n",
       "    <tr>\n",
       "      <th>50%</th>\n",
       "      <td>0.513604</td>\n",
       "      <td>0.515348</td>\n",
       "      <td>0.517554</td>\n",
       "      <td>0.531386</td>\n",
       "      <td>0.538833</td>\n",
       "      <td>0.489505</td>\n",
       "      <td>0.470224</td>\n",
       "      <td>0.462745</td>\n",
       "      <td>0.471572</td>\n",
       "      <td>0.475217</td>\n",
       "      <td>...</td>\n",
       "      <td>0.509879</td>\n",
       "      <td>0.555889</td>\n",
       "      <td>0.551165</td>\n",
       "      <td>0.542260</td>\n",
       "      <td>0.515699</td>\n",
       "      <td>0.485213</td>\n",
       "      <td>0.462905</td>\n",
       "      <td>0.455220</td>\n",
       "      <td>0.486111</td>\n",
       "      <td>0.000000</td>\n",
       "    </tr>\n",
       "    <tr>\n",
       "      <th>75%</th>\n",
       "      <td>0.525386</td>\n",
       "      <td>0.527457</td>\n",
       "      <td>0.529728</td>\n",
       "      <td>0.544113</td>\n",
       "      <td>0.551828</td>\n",
       "      <td>0.501819</td>\n",
       "      <td>0.481310</td>\n",
       "      <td>0.474248</td>\n",
       "      <td>0.482634</td>\n",
       "      <td>0.486012</td>\n",
       "      <td>...</td>\n",
       "      <td>0.521679</td>\n",
       "      <td>0.569074</td>\n",
       "      <td>0.565687</td>\n",
       "      <td>0.555872</td>\n",
       "      <td>0.527924</td>\n",
       "      <td>0.496467</td>\n",
       "      <td>0.474138</td>\n",
       "      <td>0.466614</td>\n",
       "      <td>0.497596</td>\n",
       "      <td>0.000000</td>\n",
       "    </tr>\n",
       "    <tr>\n",
       "      <th>max</th>\n",
       "      <td>1.000000</td>\n",
       "      <td>1.000000</td>\n",
       "      <td>1.000000</td>\n",
       "      <td>1.000000</td>\n",
       "      <td>1.000000</td>\n",
       "      <td>1.000000</td>\n",
       "      <td>1.000000</td>\n",
       "      <td>1.000000</td>\n",
       "      <td>1.000000</td>\n",
       "      <td>1.000000</td>\n",
       "      <td>...</td>\n",
       "      <td>1.000000</td>\n",
       "      <td>1.000000</td>\n",
       "      <td>1.000000</td>\n",
       "      <td>1.000000</td>\n",
       "      <td>1.000000</td>\n",
       "      <td>1.000000</td>\n",
       "      <td>1.000000</td>\n",
       "      <td>1.000000</td>\n",
       "      <td>1.000000</td>\n",
       "      <td>1.000000</td>\n",
       "    </tr>\n",
       "  </tbody>\n",
       "</table>\n",
       "<p>8 rows × 179 columns</p>\n",
       "</div>"
      ],
      "text/plain": [
       "                 X1            X2            X3            X4            X5  \\\n",
       "count  11500.000000  11500.000000  11500.000000  11500.000000  11500.000000   \n",
       "mean       0.512600      0.514528      0.516651      0.531055      0.538831   \n",
       "std        0.046459      0.046764      0.046298      0.046650      0.048655   \n",
       "min        0.000000      0.000000      0.000000      0.000000      0.000000   \n",
       "25%        0.500701      0.502112      0.504247      0.518079      0.524932   \n",
       "50%        0.513604      0.515348      0.517554      0.531386      0.538833   \n",
       "75%        0.525386      0.527457      0.529728      0.544113      0.551828   \n",
       "max        1.000000      1.000000      1.000000      1.000000      1.000000   \n",
       "\n",
       "                 X6            X7            X8            X9           X10  \\\n",
       "count  11500.000000  11500.000000  11500.000000  11500.000000  11500.000000   \n",
       "mean       0.489784      0.470610      0.463088      0.471686      0.475430   \n",
       "std        0.045152      0.041626      0.042384      0.041686      0.040990   \n",
       "min        0.000000      0.000000      0.000000      0.000000      0.000000   \n",
       "25%        0.476630      0.458366      0.450458      0.459223      0.463209   \n",
       "50%        0.489505      0.470224      0.462745      0.471572      0.475217   \n",
       "75%        0.501819      0.481310      0.474248      0.482634      0.486012   \n",
       "max        1.000000      1.000000      1.000000      1.000000      1.000000   \n",
       "\n",
       "       ...          X170          X171          X172          X173  \\\n",
       "count  ...  11500.000000  11500.000000  11500.000000  11500.000000   \n",
       "mean   ...      0.509565      0.555400      0.550171      0.541099   \n",
       "std    ...      0.045185      0.049790      0.056925      0.053358   \n",
       "min    ...      0.000000      0.000000      0.000000      0.000000   \n",
       "25%    ...      0.497256      0.542104      0.535630      0.527699   \n",
       "50%    ...      0.509879      0.555889      0.551165      0.542260   \n",
       "75%    ...      0.521679      0.569074      0.565687      0.555872   \n",
       "max    ...      1.000000      1.000000      1.000000      1.000000   \n",
       "\n",
       "               X174          X175          X176          X177          X178  \\\n",
       "count  11500.000000  11500.000000  11500.000000  11500.000000  11500.000000   \n",
       "mean       0.514764      0.484155      0.461937      0.454312      0.485258   \n",
       "std        0.046473      0.042984      0.042554      0.043160      0.044031   \n",
       "min        0.000000      0.000000      0.000000      0.000000      0.000000   \n",
       "25%        0.503195      0.472913      0.450888      0.443031      0.473825   \n",
       "50%        0.515699      0.485213      0.462905      0.455220      0.486111   \n",
       "75%        0.527924      0.496467      0.474138      0.466614      0.497596   \n",
       "max        1.000000      1.000000      1.000000      1.000000      1.000000   \n",
       "\n",
       "                  y  \n",
       "count  11500.000000  \n",
       "mean       0.200000  \n",
       "std        0.400017  \n",
       "min        0.000000  \n",
       "25%        0.000000  \n",
       "50%        0.000000  \n",
       "75%        0.000000  \n",
       "max        1.000000  \n",
       "\n",
       "[8 rows x 179 columns]"
      ]
     },
     "execution_count": 14,
     "metadata": {},
     "output_type": "execute_result"
    }
   ],
   "source": [
    "for col in data[feature_cols].columns:\n",
    "    data[col] = scaler.fit_transform(data[[col]]).squeeze()\n",
    "    \n",
    "data.describe() # Ensure all cols are between 0-1, looks good."
   ]
  },
  {
   "cell_type": "markdown",
   "metadata": {
    "papermill": {
     "duration": 0.077804,
     "end_time": "2021-01-25T11:08:01.067362",
     "exception": false,
     "start_time": "2021-01-25T11:08:00.989558",
     "status": "completed"
    },
    "tags": []
   },
   "source": [
    "# Baseline classification score<br>\n",
    "In order to test the influence of PCA and clustering, we should first (a) find which clf algo we will use and (b) check what score we can get with a basic baseline model."
   ]
  },
  {
   "cell_type": "markdown",
   "metadata": {
    "papermill": {
     "duration": 0.078914,
     "end_time": "2021-01-25T11:08:01.226119",
     "exception": false,
     "start_time": "2021-01-25T11:08:01.147205",
     "status": "completed"
    },
    "tags": []
   },
   "source": [
    " Preparing data for ML"
   ]
  },
  {
   "cell_type": "code",
   "execution_count": 15,
   "metadata": {
    "execution": {
     "iopub.execute_input": "2021-01-25T11:08:01.388985Z",
     "iopub.status.busy": "2021-01-25T11:08:01.388114Z",
     "iopub.status.idle": "2021-01-25T11:08:01.443463Z",
     "shell.execute_reply": "2021-01-25T11:08:01.444198Z"
    },
    "papermill": {
     "duration": 0.139202,
     "end_time": "2021-01-25T11:08:01.444369",
     "exception": false,
     "start_time": "2021-01-25T11:08:01.305167",
     "status": "completed"
    },
    "tags": []
   },
   "outputs": [],
   "source": [
    "from sklearn.model_selection import StratifiedShuffleSplit"
   ]
  },
  {
   "cell_type": "code",
   "execution_count": 16,
   "metadata": {
    "execution": {
     "iopub.execute_input": "2021-01-25T11:08:01.606256Z",
     "iopub.status.busy": "2021-01-25T11:08:01.605407Z",
     "iopub.status.idle": "2021-01-25T11:08:01.614923Z",
     "shell.execute_reply": "2021-01-25T11:08:01.614068Z"
    },
    "papermill": {
     "duration": 0.091559,
     "end_time": "2021-01-25T11:08:01.615061",
     "exception": false,
     "start_time": "2021-01-25T11:08:01.523502",
     "status": "completed"
    },
    "tags": []
   },
   "outputs": [],
   "source": [
    "X=data.drop('y', axis=1)\n",
    "y=data.y"
   ]
  },
  {
   "cell_type": "code",
   "execution_count": 17,
   "metadata": {
    "execution": {
     "iopub.execute_input": "2021-01-25T11:08:01.778275Z",
     "iopub.status.busy": "2021-01-25T11:08:01.777293Z",
     "iopub.status.idle": "2021-01-25T11:08:01.781089Z",
     "shell.execute_reply": "2021-01-25T11:08:01.781566Z"
    },
    "papermill": {
     "duration": 0.087111,
     "end_time": "2021-01-25T11:08:01.781713",
     "exception": false,
     "start_time": "2021-01-25T11:08:01.694602",
     "status": "completed"
    },
    "tags": []
   },
   "outputs": [],
   "source": [
    "strat_shuff_split = StratifiedShuffleSplit(n_splits=1, test_size=0.2, random_state=42)"
   ]
  },
  {
   "cell_type": "markdown",
   "metadata": {
    "papermill": {
     "duration": 0.051506,
     "end_time": "2021-01-25T11:08:01.886597",
     "exception": false,
     "start_time": "2021-01-25T11:08:01.835091",
     "status": "completed"
    },
    "tags": []
   },
   "source": [
    "Get the index values from the generator"
   ]
  },
  {
   "cell_type": "code",
   "execution_count": 18,
   "metadata": {
    "execution": {
     "iopub.execute_input": "2021-01-25T11:08:02.041565Z",
     "iopub.status.busy": "2021-01-25T11:08:02.040774Z",
     "iopub.status.idle": "2021-01-25T11:08:02.054881Z",
     "shell.execute_reply": "2021-01-25T11:08:02.054228Z"
    },
    "papermill": {
     "duration": 0.095115,
     "end_time": "2021-01-25T11:08:02.054992",
     "exception": false,
     "start_time": "2021-01-25T11:08:01.959877",
     "status": "completed"
    },
    "tags": []
   },
   "outputs": [],
   "source": [
    "train_idx, test_idx = next(strat_shuff_split.split(X, y))"
   ]
  },
  {
   "cell_type": "markdown",
   "metadata": {
    "papermill": {
     "duration": 0.052588,
     "end_time": "2021-01-25T11:08:02.160042",
     "exception": false,
     "start_time": "2021-01-25T11:08:02.107454",
     "status": "completed"
    },
    "tags": []
   },
   "source": [
    "Create the data sets"
   ]
  },
  {
   "cell_type": "code",
   "execution_count": 19,
   "metadata": {
    "execution": {
     "iopub.execute_input": "2021-01-25T11:08:02.270901Z",
     "iopub.status.busy": "2021-01-25T11:08:02.269993Z",
     "iopub.status.idle": "2021-01-25T11:08:02.287233Z",
     "shell.execute_reply": "2021-01-25T11:08:02.287746Z"
    },
    "papermill": {
     "duration": 0.075596,
     "end_time": "2021-01-25T11:08:02.287893",
     "exception": false,
     "start_time": "2021-01-25T11:08:02.212297",
     "status": "completed"
    },
    "tags": []
   },
   "outputs": [],
   "source": [
    "X_train = data.loc[train_idx, X.columns.values]\n",
    "y_train = data.loc[train_idx, 'y']"
   ]
  },
  {
   "cell_type": "code",
   "execution_count": 20,
   "metadata": {
    "execution": {
     "iopub.execute_input": "2021-01-25T11:08:02.398531Z",
     "iopub.status.busy": "2021-01-25T11:08:02.397289Z",
     "iopub.status.idle": "2021-01-25T11:08:02.410063Z",
     "shell.execute_reply": "2021-01-25T11:08:02.409330Z"
    },
    "papermill": {
     "duration": 0.0701,
     "end_time": "2021-01-25T11:08:02.410202",
     "exception": false,
     "start_time": "2021-01-25T11:08:02.340102",
     "status": "completed"
    },
    "tags": []
   },
   "outputs": [],
   "source": [
    "X_test = data.loc[test_idx, X.columns.values]\n",
    "y_test = data.loc[test_idx, 'y']"
   ]
  },
  {
   "cell_type": "markdown",
   "metadata": {
    "papermill": {
     "duration": 0.079265,
     "end_time": "2021-01-25T11:08:02.569212",
     "exception": false,
     "start_time": "2021-01-25T11:08:02.489947",
     "status": "completed"
    },
    "tags": []
   },
   "source": [
    "Ensure the train/test split is equal"
   ]
  },
  {
   "cell_type": "code",
   "execution_count": 21,
   "metadata": {
    "execution": {
     "iopub.execute_input": "2021-01-25T11:08:02.734526Z",
     "iopub.status.busy": "2021-01-25T11:08:02.731407Z",
     "iopub.status.idle": "2021-01-25T11:08:02.738900Z",
     "shell.execute_reply": "2021-01-25T11:08:02.738072Z"
    },
    "papermill": {
     "duration": 0.091102,
     "end_time": "2021-01-25T11:08:02.739026",
     "exception": false,
     "start_time": "2021-01-25T11:08:02.647924",
     "status": "completed"
    },
    "tags": []
   },
   "outputs": [
    {
     "name": "stdout",
     "output_type": "stream",
     "text": [
      "0    0.8\n",
      "1    0.2\n",
      "Name: y, dtype: float64\n"
     ]
    }
   ],
   "source": [
    "print(y_train.value_counts(normalize=True).sort_index())"
   ]
  },
  {
   "cell_type": "markdown",
   "metadata": {
    "papermill": {
     "duration": 0.079666,
     "end_time": "2021-01-25T11:08:02.898250",
     "exception": false,
     "start_time": "2021-01-25T11:08:02.818584",
     "status": "completed"
    },
    "tags": []
   },
   "source": [
    "Test"
   ]
  },
  {
   "cell_type": "code",
   "execution_count": 22,
   "metadata": {
    "execution": {
     "iopub.execute_input": "2021-01-25T11:08:03.030653Z",
     "iopub.status.busy": "2021-01-25T11:08:03.030031Z",
     "iopub.status.idle": "2021-01-25T11:08:03.034418Z",
     "shell.execute_reply": "2021-01-25T11:08:03.034900Z"
    },
    "papermill": {
     "duration": 0.063368,
     "end_time": "2021-01-25T11:08:03.035039",
     "exception": false,
     "start_time": "2021-01-25T11:08:02.971671",
     "status": "completed"
    },
    "tags": []
   },
   "outputs": [
    {
     "name": "stdout",
     "output_type": "stream",
     "text": [
      "0    0.8\n",
      "1    0.2\n",
      "Name: y, dtype: float64\n"
     ]
    }
   ],
   "source": [
    "print(y_test.value_counts(normalize=True).sort_index())"
   ]
  },
  {
   "cell_type": "markdown",
   "metadata": {
    "papermill": {
     "duration": 0.051748,
     "end_time": "2021-01-25T11:08:03.138932",
     "exception": false,
     "start_time": "2021-01-25T11:08:03.087184",
     "status": "completed"
    },
    "tags": []
   },
   "source": [
    "Perfect! Lets get classifying...<br>\n",
    "We'll consider the F1 score as our primary indicator because it deals well with unbalanced data sets by comparing both precision and recall."
   ]
  },
  {
   "cell_type": "markdown",
   "metadata": {
    "papermill": {
     "duration": 0.053612,
     "end_time": "2021-01-25T11:08:03.245866",
     "exception": false,
     "start_time": "2021-01-25T11:08:03.192254",
     "status": "completed"
    },
    "tags": []
   },
   "source": [
    "# Classification\n",
    "\n",
    "Lets see what performance we can get with a baseline model. This should help us pick our classifier algorithm."
   ]
  },
  {
   "cell_type": "code",
   "execution_count": 23,
   "metadata": {
    "execution": {
     "iopub.execute_input": "2021-01-25T11:08:03.361079Z",
     "iopub.status.busy": "2021-01-25T11:08:03.360174Z",
     "iopub.status.idle": "2021-01-25T11:08:03.565996Z",
     "shell.execute_reply": "2021-01-25T11:08:03.565116Z"
    },
    "papermill": {
     "duration": 0.26651,
     "end_time": "2021-01-25T11:08:03.566131",
     "exception": false,
     "start_time": "2021-01-25T11:08:03.299621",
     "status": "completed"
    },
    "tags": []
   },
   "outputs": [],
   "source": [
    "from sklearn.linear_model import LogisticRegression\n",
    "from sklearn.ensemble import RandomForestClassifier, GradientBoostingClassifier\n",
    "from sklearn.discriminant_analysis import LinearDiscriminantAnalysis,  QuadraticDiscriminantAnalysis\n",
    "from sklearn.svm import SVC\n",
    "from sklearn.neural_network import MLPClassifier\n",
    "from sklearn.tree import DecisionTreeClassifier\n",
    "from sklearn.metrics import confusion_matrix, accuracy_score, log_loss, precision_score, recall_score, f1_score, roc_auc_score"
   ]
  },
  {
   "cell_type": "code",
   "execution_count": 24,
   "metadata": {
    "execution": {
     "iopub.execute_input": "2021-01-25T11:08:03.731099Z",
     "iopub.status.busy": "2021-01-25T11:08:03.730258Z",
     "iopub.status.idle": "2021-01-25T11:08:03.734858Z",
     "shell.execute_reply": "2021-01-25T11:08:03.735517Z"
    },
    "papermill": {
     "duration": 0.088714,
     "end_time": "2021-01-25T11:08:03.735660",
     "exception": false,
     "start_time": "2021-01-25T11:08:03.646946",
     "status": "completed"
    },
    "tags": []
   },
   "outputs": [],
   "source": [
    "classifiers = [\n",
    "    LogisticRegression(),\n",
    "    SVC(kernel=\"rbf\", C=0.025, probability=True),\n",
    "    DecisionTreeClassifier(),\n",
    "    RandomForestClassifier(),\n",
    "    GradientBoostingClassifier(),\n",
    "    MLPClassifier()]"
   ]
  },
  {
   "cell_type": "code",
   "execution_count": 25,
   "metadata": {
    "execution": {
     "iopub.execute_input": "2021-01-25T11:08:03.915459Z",
     "iopub.status.busy": "2021-01-25T11:08:03.914321Z",
     "iopub.status.idle": "2021-01-25T11:10:09.426309Z",
     "shell.execute_reply": "2021-01-25T11:10:09.425026Z"
    },
    "papermill": {
     "duration": 125.609989,
     "end_time": "2021-01-25T11:10:09.426482",
     "exception": false,
     "start_time": "2021-01-25T11:08:03.816493",
     "status": "completed"
    },
    "tags": []
   },
   "outputs": [
    {
     "name": "stdout",
     "output_type": "stream",
     "text": [
      "==============================\n",
      "LogisticRegression\n",
      "****Results****\n",
      "Precision: 90.2450%\n",
      "Recall: 51.5217%\n",
      "F-score: 51.5217%\n",
      "Accuracy: 80.6087%\n",
      "==============================\n",
      "SVC\n",
      "****Results****\n",
      "Precision: 94.0349%\n",
      "Recall: 87.7174%\n",
      "F-score: 87.7174%\n",
      "Accuracy: 94.3043%\n",
      "==============================\n",
      "DecisionTreeClassifier\n",
      "****Results****\n",
      "Precision: 91.1514%\n",
      "Recall: 90.6793%\n",
      "F-score: 90.6793%\n",
      "Accuracy: 94.2174%\n",
      "==============================\n",
      "RandomForestClassifier\n",
      "****Results****\n",
      "Precision: 96.9468%\n",
      "Recall: 96.7935%\n",
      "F-score: 96.7935%\n",
      "Accuracy: 98.0000%\n",
      "==============================\n",
      "GradientBoostingClassifier\n",
      "****Results****\n",
      "Precision: 95.9919%\n",
      "Recall: 92.8261%\n",
      "F-score: 92.8261%\n",
      "Accuracy: 96.4783%\n",
      "==============================\n",
      "MLPClassifier\n",
      "****Results****\n",
      "Precision: 95.8184%\n",
      "Recall: 90.6522%\n",
      "F-score: 90.6522%\n",
      "Accuracy: 95.7391%\n",
      "==============================\n"
     ]
    }
   ],
   "source": [
    "for clf in classifiers:\n",
    "    clf.fit(X_train, y_train)\n",
    "    name = clf.__class__.__name__\n",
    "    \n",
    "    print(\"=\"*30)\n",
    "    print(name)\n",
    "    \n",
    "    print('****Results****')\n",
    "    train_predictions = clf.predict(X_test)\n",
    "    \n",
    "    # calculate score\n",
    "    acc = accuracy_score(y_test, train_predictions)\n",
    "    precision = precision_score(y_test, train_predictions, average = 'macro') \n",
    "    recall = recall_score(y_test, train_predictions, average = 'macro') \n",
    "    f_score = f1_score(y_test, train_predictions, average = 'macro')\n",
    "    \n",
    "    print(\"Precision: {:.4%}\".format(precision))\n",
    "    print(\"Recall: {:.4%}\".format(recall))\n",
    "    print(\"F-score: {:.4%}\".format(recall))\n",
    "    print(\"Accuracy: {:.4%}\".format(acc))\n",
    "    \n",
    "print(\"=\"*30)"
   ]
  },
  {
   "cell_type": "markdown",
   "metadata": {
    "papermill": {
     "duration": 0.055878,
     "end_time": "2021-01-25T11:10:09.540537",
     "exception": false,
     "start_time": "2021-01-25T11:10:09.484659",
     "status": "completed"
    },
    "tags": []
   },
   "source": [
    "From the above, it looks like Random Forest gives us our best F1 score at around 96. Lets see if we can improve with PCA/Clustering."
   ]
  },
  {
   "cell_type": "markdown",
   "metadata": {
    "papermill": {
     "duration": 0.05515,
     "end_time": "2021-01-25T11:10:09.651453",
     "exception": false,
     "start_time": "2021-01-25T11:10:09.596303",
     "status": "completed"
    },
    "tags": []
   },
   "source": [
    "## Principle Component Analysis<br>\n",
    "First, we'll consider the number of components we should use to get a reasonable explanation of the data."
   ]
  },
  {
   "cell_type": "code",
   "execution_count": 26,
   "metadata": {
    "execution": {
     "iopub.execute_input": "2021-01-25T11:10:09.769363Z",
     "iopub.status.busy": "2021-01-25T11:10:09.768491Z",
     "iopub.status.idle": "2021-01-25T11:10:09.773245Z",
     "shell.execute_reply": "2021-01-25T11:10:09.772523Z"
    },
    "papermill": {
     "duration": 0.065829,
     "end_time": "2021-01-25T11:10:09.773378",
     "exception": false,
     "start_time": "2021-01-25T11:10:09.707549",
     "status": "completed"
    },
    "tags": []
   },
   "outputs": [],
   "source": [
    "from sklearn.decomposition import PCA"
   ]
  },
  {
   "cell_type": "code",
   "execution_count": 27,
   "metadata": {
    "execution": {
     "iopub.execute_input": "2021-01-25T11:10:09.950940Z",
     "iopub.status.busy": "2021-01-25T11:10:09.950084Z",
     "iopub.status.idle": "2021-01-25T11:10:09.953074Z",
     "shell.execute_reply": "2021-01-25T11:10:09.952328Z"
    },
    "papermill": {
     "duration": 0.094738,
     "end_time": "2021-01-25T11:10:09.953199",
     "exception": false,
     "start_time": "2021-01-25T11:10:09.858461",
     "status": "completed"
    },
    "tags": []
   },
   "outputs": [],
   "source": [
    "pca_list = list()\n",
    "feature_weight_list = list()"
   ]
  },
  {
   "cell_type": "markdown",
   "metadata": {
    "papermill": {
     "duration": 0.083428,
     "end_time": "2021-01-25T11:10:10.122771",
     "exception": false,
     "start_time": "2021-01-25T11:10:10.039343",
     "status": "completed"
    },
    "tags": []
   },
   "source": [
    "Fit a range of PCA models"
   ]
  },
  {
   "cell_type": "code",
   "execution_count": 28,
   "metadata": {
    "execution": {
     "iopub.execute_input": "2021-01-25T11:10:10.238576Z",
     "iopub.status.busy": "2021-01-25T11:10:10.237975Z",
     "iopub.status.idle": "2021-01-25T11:10:13.148244Z",
     "shell.execute_reply": "2021-01-25T11:10:13.148983Z"
    },
    "papermill": {
     "duration": 2.970186,
     "end_time": "2021-01-25T11:10:13.149118",
     "exception": false,
     "start_time": "2021-01-25T11:10:10.178932",
     "status": "completed"
    },
    "tags": []
   },
   "outputs": [
    {
     "name": "stdout",
     "output_type": "stream",
     "text": [
      "                   model       var\n",
      "n                                 \n",
      "2    PCA(n_components=2)  0.332313\n",
      "3    PCA(n_components=3)  0.371588\n",
      "4    PCA(n_components=4)  0.407797\n",
      "5    PCA(n_components=5)  0.443204\n",
      "6    PCA(n_components=6)  0.474868\n",
      "7    PCA(n_components=7)  0.504209\n",
      "8    PCA(n_components=8)  0.532821\n",
      "9    PCA(n_components=9)  0.559175\n",
      "10  PCA(n_components=10)  0.584251\n",
      "11  PCA(n_components=11)  0.608924\n",
      "12  PCA(n_components=12)  0.632315\n",
      "13  PCA(n_components=13)  0.654874\n",
      "14  PCA(n_components=14)   0.67607\n",
      "15  PCA(n_components=15)  0.696916\n",
      "16  PCA(n_components=16)  0.715465\n",
      "17  PCA(n_components=17)  0.732473\n",
      "18  PCA(n_components=18)  0.747341\n",
      "19  PCA(n_components=19)  0.762519\n",
      "20  PCA(n_components=20)   0.77684\n",
      "21  PCA(n_components=21)  0.790983\n",
      "22  PCA(n_components=22)  0.804741\n",
      "23  PCA(n_components=23)  0.817643\n",
      "24  PCA(n_components=24)   0.83037\n",
      "25  PCA(n_components=25)  0.842332\n",
      "26  PCA(n_components=26)  0.853485\n",
      "27  PCA(n_components=27)   0.86452\n",
      "28  PCA(n_components=28)  0.875189\n",
      "29  PCA(n_components=29)  0.885395\n"
     ]
    }
   ],
   "source": [
    "for n in range(2, 30):\n",
    "    \n",
    "    # Create and fit the model\n",
    "    PCAmod = PCA(n_components=n)\n",
    "    PCAmod.fit(data)\n",
    "    \n",
    "    # Store the model and variance\n",
    "    pca_list.append(pd.Series({'n':n, 'model':PCAmod,\n",
    "                               'var': PCAmod.explained_variance_ratio_.sum()}))\n",
    "    \n",
    "    # Calculate and store feature importances\n",
    "    abs_feature_values = np.abs(PCAmod.components_).sum(axis=0)\n",
    "    feature_weight_list.append(pd.DataFrame({'n':n, \n",
    "                                             'features': data.columns,\n",
    "                                             'values':abs_feature_values/abs_feature_values.sum()}))\n",
    "    \n",
    "pca_df = pd.concat(pca_list, axis=1).T.set_index('n')\n",
    "print (pca_df)"
   ]
  },
  {
   "cell_type": "markdown",
   "metadata": {
    "papermill": {
     "duration": 0.056451,
     "end_time": "2021-01-25T11:10:13.262683",
     "exception": false,
     "start_time": "2021-01-25T11:10:13.206232",
     "status": "completed"
    },
    "tags": []
   },
   "source": [
    "Lets plot to see if there's any visual elbow"
   ]
  },
  {
   "cell_type": "code",
   "execution_count": 29,
   "metadata": {
    "execution": {
     "iopub.execute_input": "2021-01-25T11:10:13.384622Z",
     "iopub.status.busy": "2021-01-25T11:10:13.383821Z",
     "iopub.status.idle": "2021-01-25T11:10:13.388150Z",
     "shell.execute_reply": "2021-01-25T11:10:13.387603Z"
    },
    "papermill": {
     "duration": 0.067721,
     "end_time": "2021-01-25T11:10:13.388262",
     "exception": false,
     "start_time": "2021-01-25T11:10:13.320541",
     "status": "completed"
    },
    "tags": []
   },
   "outputs": [],
   "source": [
    "pca_df['factors']=pca_df.index\n",
    "pca_df['var'] = pd.to_numeric(pca_df['var'], errors='coerce')"
   ]
  },
  {
   "cell_type": "code",
   "execution_count": 30,
   "metadata": {
    "execution": {
     "iopub.execute_input": "2021-01-25T11:10:13.506160Z",
     "iopub.status.busy": "2021-01-25T11:10:13.505231Z",
     "iopub.status.idle": "2021-01-25T11:10:13.691699Z",
     "shell.execute_reply": "2021-01-25T11:10:13.692195Z"
    },
    "papermill": {
     "duration": 0.246852,
     "end_time": "2021-01-25T11:10:13.692345",
     "exception": false,
     "start_time": "2021-01-25T11:10:13.445493",
     "status": "completed"
    },
    "tags": []
   },
   "outputs": [
    {
     "data": {
      "text/plain": [
       "<matplotlib.axes._subplots.AxesSubplot at 0x7f28bec15950>"
      ]
     },
     "execution_count": 30,
     "metadata": {},
     "output_type": "execute_result"
    },
    {
     "data": {
      "image/png": "[encoded data removed]",
      "text/plain": [
       "<Figure size 432x288 with 1 Axes>"
      ]
     },
     "metadata": {
      "needs_background": "light"
     },
     "output_type": "display_data"
    }
   ],
   "source": [
    "sns.lineplot(data=pca_df, x='factors', y='var')"
   ]
  },
  {
   "cell_type": "markdown",
   "metadata": {
    "papermill": {
     "duration": 0.057871,
     "end_time": "2021-01-25T11:10:13.808484",
     "exception": false,
     "start_time": "2021-01-25T11:10:13.750613",
     "status": "completed"
    },
    "tags": []
   },
   "source": [
    "No clear elbow is available. Lets run through a range of PCA values and see where the clf model gets us."
   ]
  },
  {
   "cell_type": "markdown",
   "metadata": {
    "papermill": {
     "duration": 0.058143,
     "end_time": "2021-01-25T11:10:13.925022",
     "exception": false,
     "start_time": "2021-01-25T11:10:13.866879",
     "status": "completed"
    },
    "tags": []
   },
   "source": [
    "# Finding the ideal PCA clusters"
   ]
  },
  {
   "cell_type": "code",
   "execution_count": 31,
   "metadata": {
    "execution": {
     "iopub.execute_input": "2021-01-25T11:10:14.047390Z",
     "iopub.status.busy": "2021-01-25T11:10:14.046712Z",
     "iopub.status.idle": "2021-01-25T11:10:14.053946Z",
     "shell.execute_reply": "2021-01-25T11:10:14.053395Z"
    },
    "papermill": {
     "duration": 0.070708,
     "end_time": "2021-01-25T11:10:14.054051",
     "exception": false,
     "start_time": "2021-01-25T11:10:13.983343",
     "status": "completed"
    },
    "tags": []
   },
   "outputs": [],
   "source": [
    "from sklearn.pipeline import Pipeline\n",
    "strat_shuff_split = StratifiedShuffleSplit(n_splits=1, test_size=0.2, random_state=42)"
   ]
  },
  {
   "cell_type": "code",
   "execution_count": 32,
   "metadata": {
    "execution": {
     "iopub.execute_input": "2021-01-25T11:10:14.184550Z",
     "iopub.status.busy": "2021-01-25T11:10:14.183754Z",
     "iopub.status.idle": "2021-01-25T11:10:14.185961Z",
     "shell.execute_reply": "2021-01-25T11:10:14.186577Z"
    },
    "papermill": {
     "duration": 0.073859,
     "end_time": "2021-01-25T11:10:14.186763",
     "exception": false,
     "start_time": "2021-01-25T11:10:14.112904",
     "status": "completed"
    },
    "tags": []
   },
   "outputs": [],
   "source": [
    "def get_avg_score(n):\n",
    "    pipe = [\n",
    "        ('scaler', MinMaxScaler()),\n",
    "        ('pca', PCA(n_components=n)),\n",
    "        ('estimator', RandomForestClassifier())\n",
    "    ]\n",
    "    pipe = Pipeline(pipe)\n",
    "    f1_scores = []\n",
    "    for train_index, test_index in strat_shuff_split.split(X, y):\n",
    "        X_train, X_test = X.loc[train_index], X.loc[test_index]\n",
    "        y_train, y_test = y.loc[train_index], y.loc[test_index]\n",
    "        pipe.fit(X_train, y_train)\n",
    "        f1_scores.append(f1_score(y_test, pipe.predict(X_test)))\n",
    "    return np.mean(f1_scores)"
   ]
  },
  {
   "cell_type": "code",
   "execution_count": 33,
   "metadata": {
    "execution": {
     "iopub.execute_input": "2021-01-25T11:10:14.370868Z",
     "iopub.status.busy": "2021-01-25T11:10:14.370077Z",
     "iopub.status.idle": "2021-01-25T11:12:05.538830Z",
     "shell.execute_reply": "2021-01-25T11:12:05.539356Z"
    },
    "papermill": {
     "duration": 111.262223,
     "end_time": "2021-01-25T11:12:05.539488",
     "exception": false,
     "start_time": "2021-01-25T11:10:14.277265",
     "status": "completed"
    },
    "tags": []
   },
   "outputs": [
    {
     "name": "stdout",
     "output_type": "stream",
     "text": [
      "[0.8978260869565218, 0.9192680301399354, 0.9314775160599572, 0.9375, 0.9397849462365591, 0.9376344086021504, 0.9381107491856677]\n"
     ]
    }
   ],
   "source": [
    "ns = [5, 10, 20, 30, 40, 50, 100]\n",
    "score_list = [get_avg_score(n) for n in ns]\n",
    "print(score_list)"
   ]
  },
  {
   "cell_type": "markdown",
   "metadata": {
    "papermill": {
     "duration": 0.058358,
     "end_time": "2021-01-25T11:12:05.658944",
     "exception": false,
     "start_time": "2021-01-25T11:12:05.600586",
     "status": "completed"
    },
    "tags": []
   },
   "source": [
    " Visualising the Influence of n Components on F1 score"
   ]
  },
  {
   "cell_type": "code",
   "execution_count": 34,
   "metadata": {
    "execution": {
     "iopub.execute_input": "2021-01-25T11:12:05.796423Z",
     "iopub.status.busy": "2021-01-25T11:12:05.795095Z",
     "iopub.status.idle": "2021-01-25T11:12:05.964787Z",
     "shell.execute_reply": "2021-01-25T11:12:05.963565Z"
    },
    "papermill": {
     "duration": 0.247352,
     "end_time": "2021-01-25T11:12:05.964935",
     "exception": false,
     "start_time": "2021-01-25T11:12:05.717583",
     "status": "completed"
    },
    "tags": []
   },
   "outputs": [
    {
     "data": {
      "image/png": "[encoded data removed]",
      "text/plain": [
       "<Figure size 432x288 with 1 Axes>"
      ]
     },
     "metadata": {
      "needs_background": "light"
     },
     "output_type": "display_data"
    }
   ],
   "source": [
    "ax = plt.axes()\n",
    "ax.plot(ns, score_list)\n",
    "ax.set(xlabel='Number of Dimensions',\n",
    "       ylabel='F1 Score')\n",
    "ax.grid(True)"
   ]
  },
  {
   "cell_type": "markdown",
   "metadata": {
    "papermill": {
     "duration": 0.090845,
     "end_time": "2021-01-25T11:12:06.146826",
     "exception": false,
     "start_time": "2021-01-25T11:12:06.055981",
     "status": "completed"
    },
    "tags": []
   },
   "source": [
    "From the above plot we can see that we achieve a very high score with as few as 40 components. If rapid computation is requied, we may consider using PCA to greatly reduce the features. "
   ]
  },
  {
   "cell_type": "markdown",
   "metadata": {
    "papermill": {
     "duration": 0.089644,
     "end_time": "2021-01-25T11:12:06.328801",
     "exception": false,
     "start_time": "2021-01-25T11:12:06.239157",
     "status": "completed"
    },
    "tags": []
   },
   "source": [
    "## Clustering<br>\n",
    "Next I will consider whether adding a cluster variable functions to improve the performance above the basic baseline RF model.<br>\n",
    "First, lets work out how many clusters are required, by looping through clusters and using the elbow method. I will begin withna basic K-means"
   ]
  },
  {
   "cell_type": "code",
   "execution_count": 35,
   "metadata": {
    "execution": {
     "iopub.execute_input": "2021-01-25T11:12:06.515356Z",
     "iopub.status.busy": "2021-01-25T11:12:06.514387Z",
     "iopub.status.idle": "2021-01-25T11:12:06.583383Z",
     "shell.execute_reply": "2021-01-25T11:12:06.584096Z"
    },
    "papermill": {
     "duration": 0.16517,
     "end_time": "2021-01-25T11:12:06.584269",
     "exception": false,
     "start_time": "2021-01-25T11:12:06.419099",
     "status": "completed"
    },
    "tags": []
   },
   "outputs": [],
   "source": [
    "from sklearn.cluster import KMeans"
   ]
  },
  {
   "cell_type": "code",
   "execution_count": 36,
   "metadata": {
    "execution": {
     "iopub.execute_input": "2021-01-25T11:12:06.783106Z",
     "iopub.status.busy": "2021-01-25T11:12:06.782400Z",
     "iopub.status.idle": "2021-01-25T11:12:06.786278Z",
     "shell.execute_reply": "2021-01-25T11:12:06.787293Z"
    },
    "papermill": {
     "duration": 0.098923,
     "end_time": "2021-01-25T11:12:06.787487",
     "exception": false,
     "start_time": "2021-01-25T11:12:06.688564",
     "status": "completed"
    },
    "tags": []
   },
   "outputs": [],
   "source": [
    "kmeans_list = list()"
   ]
  },
  {
   "cell_type": "code",
   "execution_count": 37,
   "metadata": {
    "execution": {
     "iopub.execute_input": "2021-01-25T11:12:06.980458Z",
     "iopub.status.busy": "2021-01-25T11:12:06.978752Z",
     "iopub.status.idle": "2021-01-25T11:12:26.571596Z",
     "shell.execute_reply": "2021-01-25T11:12:26.570792Z"
    },
    "papermill": {
     "duration": 19.692899,
     "end_time": "2021-01-25T11:12:26.571773",
     "exception": false,
     "start_time": "2021-01-25T11:12:06.878874",
     "status": "completed"
    },
    "tags": []
   },
   "outputs": [],
   "source": [
    "for clusters in range(1,15):\n",
    "    km = KMeans(n_clusters=clusters, random_state=42)\n",
    "    km = km.fit(data[feature_cols])\n",
    "    \n",
    "    kmeans_list.append(pd.Series({'clusters': clusters, \n",
    "                              'inertia': km.inertia_,\n",
    "                              'model': km}))\n",
    "# Prepare to plot    \n",
    "elbow_graph_data = (pd.concat(kmeans_list, axis=1)\n",
    "             .T\n",
    "             [['clusters','inertia']])\n",
    "elbow_graph_data[['clusters','inertia']]=elbow_graph_data[['clusters','inertia']].apply(pd.to_numeric, errors='coerce')"
   ]
  },
  {
   "cell_type": "code",
   "execution_count": 38,
   "metadata": {
    "execution": {
     "iopub.execute_input": "2021-01-25T11:12:26.792898Z",
     "iopub.status.busy": "2021-01-25T11:12:26.787425Z",
     "iopub.status.idle": "2021-01-25T11:12:26.956780Z",
     "shell.execute_reply": "2021-01-25T11:12:26.956096Z"
    },
    "papermill": {
     "duration": 0.279041,
     "end_time": "2021-01-25T11:12:26.956922",
     "exception": false,
     "start_time": "2021-01-25T11:12:26.677881",
     "status": "completed"
    },
    "tags": []
   },
   "outputs": [
    {
     "data": {
      "text/plain": [
       "<matplotlib.axes._subplots.AxesSubplot at 0x7f28be9c1850>"
      ]
     },
     "execution_count": 38,
     "metadata": {},
     "output_type": "execute_result"
    },
    {
     "data": {
      "image/png": "[encoded data removed]",
      "text/plain": [
       "<Figure size 432x288 with 1 Axes>"
      ]
     },
     "metadata": {
      "needs_background": "light"
     },
     "output_type": "display_data"
    }
   ],
   "source": [
    "sns.lineplot(data=elbow_graph_data, x='clusters', y='inertia')"
   ]
  },
  {
   "cell_type": "markdown",
   "metadata": {
    "papermill": {
     "duration": 0.09279,
     "end_time": "2021-01-25T11:12:27.145383",
     "exception": false,
     "start_time": "2021-01-25T11:12:27.052593",
     "status": "completed"
    },
    "tags": []
   },
   "source": [
    "Theres really no clear elbow here. However, we do have domain knowledge- these features relate to 5 y classifications therefore there should technically be 5 clusters. Lets use this."
   ]
  },
  {
   "cell_type": "code",
   "execution_count": 39,
   "metadata": {
    "execution": {
     "iopub.execute_input": "2021-01-25T11:12:27.337134Z",
     "iopub.status.busy": "2021-01-25T11:12:27.336441Z",
     "iopub.status.idle": "2021-01-25T11:12:28.368075Z",
     "shell.execute_reply": "2021-01-25T11:12:28.367419Z"
    },
    "papermill": {
     "duration": 1.127274,
     "end_time": "2021-01-25T11:12:28.368208",
     "exception": false,
     "start_time": "2021-01-25T11:12:27.240934",
     "status": "completed"
    },
    "tags": []
   },
   "outputs": [],
   "source": [
    "km = KMeans(n_clusters=5, random_state=42)\n",
    "km = km.fit(data[feature_cols])"
   ]
  },
  {
   "cell_type": "code",
   "execution_count": 40,
   "metadata": {
    "execution": {
     "iopub.execute_input": "2021-01-25T11:12:28.544571Z",
     "iopub.status.busy": "2021-01-25T11:12:28.543833Z",
     "iopub.status.idle": "2021-01-25T11:12:28.554173Z",
     "shell.execute_reply": "2021-01-25T11:12:28.553501Z"
    },
    "papermill": {
     "duration": 0.107626,
     "end_time": "2021-01-25T11:12:28.554304",
     "exception": false,
     "start_time": "2021-01-25T11:12:28.446678",
     "status": "completed"
    },
    "tags": []
   },
   "outputs": [],
   "source": [
    "data['km_cluster'] = km.predict(data[feature_cols])"
   ]
  },
  {
   "cell_type": "markdown",
   "metadata": {
    "papermill": {
     "duration": 0.07735,
     "end_time": "2021-01-25T11:12:28.709226",
     "exception": false,
     "start_time": "2021-01-25T11:12:28.631876",
     "status": "completed"
    },
    "tags": []
   },
   "source": [
    "For good measure, lets investigate hierarchial clustering too."
   ]
  },
  {
   "cell_type": "code",
   "execution_count": 41,
   "metadata": {
    "execution": {
     "iopub.execute_input": "2021-01-25T11:12:28.851243Z",
     "iopub.status.busy": "2021-01-25T11:12:28.850649Z",
     "iopub.status.idle": "2021-01-25T11:13:01.091687Z",
     "shell.execute_reply": "2021-01-25T11:13:01.091127Z"
    },
    "papermill": {
     "duration": 32.313466,
     "end_time": "2021-01-25T11:13:01.091844",
     "exception": false,
     "start_time": "2021-01-25T11:12:28.778378",
     "status": "completed"
    },
    "tags": []
   },
   "outputs": [],
   "source": [
    "from sklearn.cluster import AgglomerativeClustering\n",
    "AClust = AgglomerativeClustering(n_clusters=5, linkage='ward')\n",
    "AClust = AClust.fit(data[feature_cols])\n",
    "data['AClust'] = AClust.fit_predict(data[feature_cols])"
   ]
  },
  {
   "cell_type": "markdown",
   "metadata": {
    "papermill": {
     "duration": 0.062131,
     "end_time": "2021-01-25T11:13:01.218043",
     "exception": false,
     "start_time": "2021-01-25T11:13:01.155912",
     "status": "completed"
    },
    "tags": []
   },
   "source": [
    "Now lets run the model with KM and AC clusters."
   ]
  },
  {
   "cell_type": "code",
   "execution_count": 42,
   "metadata": {
    "execution": {
     "iopub.execute_input": "2021-01-25T11:13:01.350192Z",
     "iopub.status.busy": "2021-01-25T11:13:01.349560Z",
     "iopub.status.idle": "2021-01-25T11:13:01.366231Z",
     "shell.execute_reply": "2021-01-25T11:13:01.365660Z"
    },
    "papermill": {
     "duration": 0.084876,
     "end_time": "2021-01-25T11:13:01.366330",
     "exception": false,
     "start_time": "2021-01-25T11:13:01.281454",
     "status": "completed"
    },
    "tags": []
   },
   "outputs": [],
   "source": [
    "data_KM=data.drop(['AClust'], axis=1)\n",
    "data_AG=data.drop(['km_cluster'], axis=1)\n",
    "data_no_clusters=data.drop(['AClust', 'km_cluster'], axis=1)"
   ]
  },
  {
   "cell_type": "markdown",
   "metadata": {
    "papermill": {
     "duration": 0.063177,
     "end_time": "2021-01-25T11:13:01.492090",
     "exception": false,
     "start_time": "2021-01-25T11:13:01.428913",
     "status": "completed"
    },
    "tags": []
   },
   "source": [
    "# Influence of Clustering on RF Performance"
   ]
  },
  {
   "cell_type": "code",
   "execution_count": 43,
   "metadata": {
    "execution": {
     "iopub.execute_input": "2021-01-25T11:13:01.626087Z",
     "iopub.status.busy": "2021-01-25T11:13:01.625241Z",
     "iopub.status.idle": "2021-01-25T11:13:01.630416Z",
     "shell.execute_reply": "2021-01-25T11:13:01.629937Z"
    },
    "papermill": {
     "duration": 0.076363,
     "end_time": "2021-01-25T11:13:01.630515",
     "exception": false,
     "start_time": "2021-01-25T11:13:01.554152",
     "status": "completed"
    },
    "tags": []
   },
   "outputs": [],
   "source": [
    "def test_clusters(estimator, X, y):\n",
    "    f1_scores = []\n",
    "    for train_index, test_index in strat_shuff_split.split(X, y):\n",
    "        X_train, X_test = X.loc[train_index], X.loc[test_index]\n",
    "        y_train, y_test = y.loc[train_index], y.loc[test_index]\n",
    "        estimator.fit(X_train, y_train)\n",
    "        f1_scores.append(f1_score(y_test, estimator.predict(X_test)))\n",
    "    return np.mean(f1_scores)"
   ]
  },
  {
   "cell_type": "code",
   "execution_count": 44,
   "metadata": {
    "execution": {
     "iopub.execute_input": "2021-01-25T11:13:01.762964Z",
     "iopub.status.busy": "2021-01-25T11:13:01.762323Z",
     "iopub.status.idle": "2021-01-25T11:13:31.771024Z",
     "shell.execute_reply": "2021-01-25T11:13:31.770445Z"
    },
    "papermill": {
     "duration": 30.078109,
     "end_time": "2021-01-25T11:13:31.771140",
     "exception": false,
     "start_time": "2021-01-25T11:13:01.693031",
     "status": "completed"
    },
    "tags": []
   },
   "outputs": [],
   "source": [
    "f1_with_kmeans = test_clusters(RandomForestClassifier(), data_KM, y)\n",
    "f1_with_hierarchial = test_clusters(RandomForestClassifier(), data_AG, y)\n",
    "f1_with_no_clustering = test_clusters(RandomForestClassifier(), data_no_clusters, y)"
   ]
  },
  {
   "cell_type": "code",
   "execution_count": 45,
   "metadata": {
    "execution": {
     "iopub.execute_input": "2021-01-25T11:13:31.905230Z",
     "iopub.status.busy": "2021-01-25T11:13:31.904402Z",
     "iopub.status.idle": "2021-01-25T11:13:31.911474Z",
     "shell.execute_reply": "2021-01-25T11:13:31.910699Z"
    },
    "papermill": {
     "duration": 0.077099,
     "end_time": "2021-01-25T11:13:31.911584",
     "exception": false,
     "start_time": "2021-01-25T11:13:31.834485",
     "status": "completed"
    },
    "tags": []
   },
   "outputs": [
    {
     "name": "stdout",
     "output_type": "stream",
     "text": [
      "F1 score with K-means clustering: 0.9978308026030369\n",
      "F1 score with hierarchial clustering: 1.0\n",
      "F1 score with no clustering: 0.9978308026030369\n"
     ]
    }
   ],
   "source": [
    "print('F1 score with K-means clustering:', f1_with_kmeans)\n",
    "print('F1 score with hierarchial clustering:', f1_with_hierarchial)\n",
    "print('F1 score with no clustering:', f1_with_no_clustering)"
   ]
  },
  {
   "cell_type": "markdown",
   "metadata": {
    "papermill": {
     "duration": 0.061616,
     "end_time": "2021-01-25T11:13:32.035933",
     "exception": false,
     "start_time": "2021-01-25T11:13:31.974317",
     "status": "completed"
    },
    "tags": []
   },
   "source": [
    "Here we see a very small improvement with clustering but the effect is minor as the performance is already maxed out."
   ]
  },
  {
   "cell_type": "markdown",
   "metadata": {
    "papermill": {
     "duration": 0.061954,
     "end_time": "2021-01-25T11:13:32.160221",
     "exception": false,
     "start_time": "2021-01-25T11:13:32.098267",
     "status": "completed"
    },
    "tags": []
   },
   "source": [
    "# Suggestions for next steps.<br>\n",
    "The baseline model was already very strong here. A couple of extra steps that could be worthy:<br>\n",
    "* Tuning the RF model to get optimal performance from the hyperparameters<br>\n",
    "* Combining PCA and clustering in order to greatly reduce n features (improving compute speed and scalability)<br>\n",
    "* Building ensemble models may potentially help. Though we are near perfect performance at this point."
   ]
  }
 ],
 "metadata": {
  "kernelspec": {
   "display_name": "Python 3",
   "language": "python",
   "name": "python3"
  },
  "language_info": {
   "codemirror_mode": {
    "name": "ipython",
    "version": 3
   },
   "file_extension": ".py",
   "mimetype": "text/x-python",
   "name": "python",
   "nbconvert_exporter": "python",
   "pygments_lexer": "ipython3",
   "version": "3.7.6"
  },
  "papermill": {
   "duration": 344.953132,
   "end_time": "2021-01-25T11:13:32.333400",
   "environment_variables": {},
   "exception": null,
   "input_path": "__notebook__.ipynb",
   "output_path": "__notebook__.ipynb",
   "parameters": {},
   "start_time": "2021-01-25T11:07:47.380268",
   "version": "2.1.0"
  }
 },
 "nbformat": 4,
 "nbformat_minor": 4
}
